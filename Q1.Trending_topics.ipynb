{
 "cells": [
  {
   "cell_type": "code",
   "execution_count": 37,
   "metadata": {},
   "outputs": [],
   "source": [
    "import tweepy as tw\n",
    "import os\n",
    "import json\n",
    "import sys"
   ]
  },
  {
   "cell_type": "code",
   "execution_count": 38,
   "metadata": {},
   "outputs": [],
   "source": [
    "# API Keys and Tokens\n",
    "consumer_key = 'H8J4lTPwHny8qt41OOxLFwNHH'\n",
    "consumer_secret = 'KNTd6Kida34CBydCJYGm5leKBChBN86sTlMpkFZ6bkfkWAjaYb'\n",
    "access_token = '3105826550-F4YMOB6ZljoceFpW2WTJctwxAFH757cEy6QwNXD'\n",
    "access_secret = 'JJaTqeVLPqma5OtYsDwjTldEP8S8qqiRz4VcTmXGf1dwZ'\n"
   ]
  },
  {
   "cell_type": "code",
   "execution_count": 39,
   "metadata": {},
   "outputs": [],
   "source": [
    "# Authorization and Authentication\n",
    "auth = tw.OAuthHandler(consumer_key, consumer_secret)\n",
    "auth.set_access_token(access_token, access_secret)\n",
    "api = tw.API(auth)"
   ]
  },
  {
   "cell_type": "code",
   "execution_count": 40,
   "metadata": {},
   "outputs": [],
   "source": [
    "# WOEID of delhi, india\n",
    "woeid = 20070458"
   ]
  },
  {
   "cell_type": "code",
   "execution_count": 41,
   "metadata": {},
   "outputs": [],
   "source": [
    "# fetching the trends\n",
    "Trends = api.trends_place(id = woeid)"
   ]
  },
  {
   "cell_type": "code",
   "execution_count": 69,
   "metadata": {},
   "outputs": [
    {
     "name": "stdout",
     "output_type": "stream",
     "text": [
      "{'trends': [{'name': 'Nehru', 'url': 'http://twitter.com/search?q=Nehru', 'promoted_content': None, 'query': 'Nehru', 'tweet_volume': 44435}, {'name': '#NarendraModi', 'url': 'http://twitter.com/search?q=%23NarendraModi', 'promoted_content': None, 'query': '%23NarendraModi', 'tweet_volume': None}, {'name': 'Mahatma Gandhi', 'url': 'http://twitter.com/search?q=%22Mahatma+Gandhi%22', 'promoted_content': None, 'query': '%22Mahatma+Gandhi%22', 'tweet_volume': 12324}, {'name': '#IndiaAt75', 'url': 'http://twitter.com/search?q=%23IndiaAt75', 'promoted_content': None, 'query': '%23IndiaAt75', 'tweet_volume': 197929}, {'name': '#IndependenceDay', 'url': 'http://twitter.com/search?q=%23IndependenceDay', 'promoted_content': None, 'query': '%23IndependenceDay', 'tweet_volume': 377501}, {'name': 'Jai Hind', 'url': 'http://twitter.com/search?q=%22Jai+Hind%22', 'promoted_content': None, 'query': '%22Jai+Hind%22', 'tweet_volume': 112100}, {'name': '#FreeDOMDay', 'url': 'http://twitter.com/search?q=%23FreeDOMDay', 'promoted_content': None, 'query': '%23FreeDOMDay', 'tweet_volume': None}, {'name': '#स्वतंत्रतादिवस', 'url': 'http://twitter.com/search?q=%23%E0%A4%B8%E0%A5%8D%E0%A4%B5%E0%A4%A4%E0%A4%82%E0%A4%A4%E0%A5%8D%E0%A4%B0%E0%A4%A4%E0%A4%BE%E0%A4%A6%E0%A4%BF%E0%A4%B5%E0%A4%B8', 'promoted_content': None, 'query': '%23%E0%A4%B8%E0%A5%8D%E0%A4%B5%E0%A4%A4%E0%A4%82%E0%A4%A4%E0%A5%8D%E0%A4%B0%E0%A4%A4%E0%A4%BE%E0%A4%A6%E0%A4%BF%E0%A4%B5%E0%A4%B8', 'tweet_volume': 113242}, {'name': 'Indians', 'url': 'http://twitter.com/search?q=Indians', 'promoted_content': None, 'query': 'Indians', 'tweet_volume': 72170}, {'name': 'National Flag', 'url': 'http://twitter.com/search?q=%22National+Flag%22', 'promoted_content': None, 'query': '%22National+Flag%22', 'tweet_volume': 36824}, {'name': 'Red Fort', 'url': 'http://twitter.com/search?q=%22Red+Fort%22', 'promoted_content': None, 'query': '%22Red+Fort%22', 'tweet_volume': 42399}, {'name': 'Burhan Wani', 'url': 'http://twitter.com/search?q=%22Burhan+Wani%22', 'promoted_content': None, 'query': '%22Burhan+Wani%22', 'tweet_volume': None}, {'name': 'Celebrating 75', 'url': 'http://twitter.com/search?q=%22Celebrating+75%22', 'promoted_content': None, 'query': '%22Celebrating+75%22', 'tweet_volume': None}, {'name': 'May the Indian', 'url': 'http://twitter.com/search?q=%22May+the+Indian%22', 'promoted_content': None, 'query': '%22May+the+Indian%22', 'tweet_volume': None}, {'name': 'अनमोल समय', 'url': 'http://twitter.com/search?q=%22%E0%A4%85%E0%A4%A8%E0%A4%AE%E0%A5%8B%E0%A4%B2+%E0%A4%B8%E0%A4%AE%E0%A4%AF%22', 'promoted_content': None, 'query': '%22%E0%A4%85%E0%A4%A8%E0%A4%AE%E0%A5%8B%E0%A4%B2+%E0%A4%B8%E0%A4%AE%E0%A4%AF%22', 'tweet_volume': None}, {'name': 'Sainik Schools', 'url': 'http://twitter.com/search?q=%22Sainik+Schools%22', 'promoted_content': None, 'query': '%22Sainik+Schools%22', 'tweet_volume': None}, {'name': 'As India', 'url': 'http://twitter.com/search?q=%22As+India%22', 'promoted_content': None, 'query': '%22As+India%22', 'tweet_volume': 79522}, {'name': 'लाल किले', 'url': 'http://twitter.com/search?q=%22%E0%A4%B2%E0%A4%BE%E0%A4%B2+%E0%A4%95%E0%A4%BF%E0%A4%B2%E0%A5%87%22', 'promoted_content': None, 'query': '%22%E0%A4%B2%E0%A4%BE%E0%A4%B2+%E0%A4%95%E0%A4%BF%E0%A4%B2%E0%A5%87%22', 'tweet_volume': 32315}, {'name': 'AICC', 'url': 'http://twitter.com/search?q=AICC', 'promoted_content': None, 'query': 'AICC', 'tweet_volume': None}, {'name': '#DominosPizza', 'url': 'http://twitter.com/search?q=%23DominosPizza', 'promoted_content': None, 'query': '%23DominosPizza', 'tweet_volume': None}, {'name': '#15August', 'url': 'http://twitter.com/search?q=%2315August', 'promoted_content': None, 'query': '%2315August', 'tweet_volume': 54810}, {'name': '#BheemlaNayak', 'url': 'http://twitter.com/search?q=%23BheemlaNayak', 'promoted_content': None, 'query': '%23BheemlaNayak', 'tweet_volume': 573376}, {'name': '#यह_आज़ादी_झूठी_है', 'url': 'http://twitter.com/search?q=%23%E0%A4%AF%E0%A4%B9_%E0%A4%86%E0%A4%9C%E0%A4%BC%E0%A4%BE%E0%A4%A6%E0%A5%80_%E0%A4%9D%E0%A5%82%E0%A4%A0%E0%A5%80_%E0%A4%B9%E0%A5%88', 'promoted_content': None, 'query': '%23%E0%A4%AF%E0%A4%B9_%E0%A4%86%E0%A4%9C%E0%A4%BC%E0%A4%BE%E0%A4%A6%E0%A5%80_%E0%A4%9D%E0%A5%82%E0%A4%A0%E0%A5%80_%E0%A4%B9%E0%A5%88', 'tweet_volume': 108457}, {'name': '#IndianFlag', 'url': 'http://twitter.com/search?q=%23IndianFlag', 'promoted_content': None, 'query': '%23IndianFlag', 'tweet_volume': None}, {'name': '#स्\\u200dवतंत्रता_दिवस_2021', 'url': 'http://twitter.com/search?q=%23%E0%A4%B8%E0%A5%8D%E2%80%8D%E0%A4%B5%E0%A4%A4%E0%A4%82%E0%A4%A4%E0%A5%8D%E0%A4%B0%E0%A4%A4%E0%A4%BE_%E0%A4%A6%E0%A4%BF%E0%A4%B5%E0%A4%B8_2021', 'promoted_content': None, 'query': '%23%E0%A4%B8%E0%A5%8D%E2%80%8D%E0%A4%B5%E0%A4%A4%E0%A4%82%E0%A4%A4%E0%A5%8D%E0%A4%B0%E0%A4%A4%E0%A4%BE_%E0%A4%A6%E0%A4%BF%E0%A4%B5%E0%A4%B8_2021', 'tweet_volume': None}, {'name': '#15अगस्त2021', 'url': 'http://twitter.com/search?q=%2315%E0%A4%85%E0%A4%97%E0%A4%B8%E0%A5%8D%E0%A4%A42021', 'promoted_content': None, 'query': '%2315%E0%A4%85%E0%A4%97%E0%A4%B8%E0%A5%8D%E0%A4%A42021', 'tweet_volume': None}, {'name': '#august15', 'url': 'http://twitter.com/search?q=%23august15', 'promoted_content': None, 'query': '%23august15', 'tweet_volume': None}, {'name': '#IndianArmy', 'url': 'http://twitter.com/search?q=%23IndianArmy', 'promoted_content': None, 'query': '%23IndianArmy', 'tweet_volume': 21764}, {'name': '#AzadiKaAmritMahotsav', 'url': 'http://twitter.com/search?q=%23AzadiKaAmritMahotsav', 'promoted_content': None, 'query': '%23AzadiKaAmritMahotsav', 'tweet_volume': 45965}, {'name': '#DoctorSKArrivalSoon', 'url': 'http://twitter.com/search?q=%23DoctorSKArrivalSoon', 'promoted_content': None, 'query': '%23DoctorSKArrivalSoon', 'tweet_volume': 13964}, {'name': '#जय_हिंद', 'url': 'http://twitter.com/search?q=%23%E0%A4%9C%E0%A4%AF_%E0%A4%B9%E0%A4%BF%E0%A4%82%E0%A4%A6', 'promoted_content': None, 'query': '%23%E0%A4%9C%E0%A4%AF_%E0%A4%B9%E0%A4%BF%E0%A4%82%E0%A4%A6', 'tweet_volume': 22550}, {'name': '#FlagshipKiller2021', 'url': 'http://twitter.com/search?q=%23FlagshipKiller2021', 'promoted_content': None, 'query': '%23FlagshipKiller2021', 'tweet_volume': None}, {'name': '#IslamAndPatriotism', 'url': 'http://twitter.com/search?q=%23IslamAndPatriotism', 'promoted_content': None, 'query': '%23IslamAndPatriotism', 'tweet_volume': 34558}, {'name': '#TumAaogey', 'url': 'http://twitter.com/search?q=%23TumAaogey', 'promoted_content': None, 'query': '%23TumAaogey', 'tweet_volume': None}, {'name': '#स्वातंत्र्यदिन', 'url': 'http://twitter.com/search?q=%23%E0%A4%B8%E0%A5%8D%E0%A4%B5%E0%A4%BE%E0%A4%A4%E0%A4%82%E0%A4%A4%E0%A5%8D%E0%A4%B0%E0%A5%8D%E0%A4%AF%E0%A4%A6%E0%A4%BF%E0%A4%A8', 'promoted_content': None, 'query': '%23%E0%A4%B8%E0%A5%8D%E0%A4%B5%E0%A4%BE%E0%A4%A4%E0%A4%82%E0%A4%A4%E0%A5%8D%E0%A4%B0%E0%A5%8D%E0%A4%AF%E0%A4%A6%E0%A4%BF%E0%A4%A8', 'tweet_volume': None}, {'name': '#ProudIndian', 'url': 'http://twitter.com/search?q=%23ProudIndian', 'promoted_content': None, 'query': '%23ProudIndian', 'tweet_volume': None}, {'name': '#சுதந்திரதினம்', 'url': 'http://twitter.com/search?q=%23%E0%AE%9A%E0%AF%81%E0%AE%A4%E0%AE%A8%E0%AF%8D%E0%AE%A4%E0%AE%BF%E0%AE%B0%E0%AE%A4%E0%AE%BF%E0%AE%A9%E0%AE%AE%E0%AF%8D', 'promoted_content': None, 'query': '%23%E0%AE%9A%E0%AF%81%E0%AE%A4%E0%AE%A8%E0%AF%8D%E0%AE%A4%E0%AE%BF%E0%AE%B0%E0%AE%A4%E0%AE%BF%E0%AE%A9%E0%AE%AE%E0%AF%8D', 'tweet_volume': None}, {'name': '#JiminFavoriteMember', 'url': 'http://twitter.com/search?q=%23JiminFavoriteMember', 'promoted_content': None, 'query': '%23JiminFavoriteMember', 'tweet_volume': 65664}, {'name': '#VandeMataram', 'url': 'http://twitter.com/search?q=%23VandeMataram', 'promoted_content': None, 'query': '%23VandeMataram', 'tweet_volume': None}, {'name': '#खेती_क़ानूनों_से_आज़ादी_दो', 'url': 'http://twitter.com/search?q=%23%E0%A4%96%E0%A5%87%E0%A4%A4%E0%A5%80_%E0%A4%95%E0%A4%BC%E0%A4%BE%E0%A4%A8%E0%A5%82%E0%A4%A8%E0%A5%8B%E0%A4%82_%E0%A4%B8%E0%A5%87_%E0%A4%86%E0%A4%9C%E0%A4%BC%E0%A4%BE%E0%A4%A6%E0%A5%80_%E0%A4%A6%E0%A5%8B', 'promoted_content': None, 'query': '%23%E0%A4%96%E0%A5%87%E0%A4%A4%E0%A5%80_%E0%A4%95%E0%A4%BC%E0%A4%BE%E0%A4%A8%E0%A5%82%E0%A4%A8%E0%A5%8B%E0%A4%82_%E0%A4%B8%E0%A5%87_%E0%A4%86%E0%A4%9C%E0%A4%BC%E0%A4%BE%E0%A4%A6%E0%A5%80_%E0%A4%A6%E0%A5%8B', 'tweet_volume': 57278}, {'name': '#sundayvibes', 'url': 'http://twitter.com/search?q=%23sundayvibes', 'promoted_content': None, 'query': '%23sundayvibes', 'tweet_volume': None}, {'name': '#CongratulationsJimin', 'url': 'http://twitter.com/search?q=%23CongratulationsJimin', 'promoted_content': None, 'query': '%23CongratulationsJimin', 'tweet_volume': 60465}, {'name': '#आरक्षण_से_आज़ादी_कब', 'url': 'http://twitter.com/search?q=%23%E0%A4%86%E0%A4%B0%E0%A4%95%E0%A5%8D%E0%A4%B7%E0%A4%A3_%E0%A4%B8%E0%A5%87_%E0%A4%86%E0%A4%9C%E0%A4%BC%E0%A4%BE%E0%A4%A6%E0%A5%80_%E0%A4%95%E0%A4%AC', 'promoted_content': None, 'query': '%23%E0%A4%86%E0%A4%B0%E0%A4%95%E0%A5%8D%E0%A4%B7%E0%A4%A3_%E0%A4%B8%E0%A5%87_%E0%A4%86%E0%A4%9C%E0%A4%BC%E0%A4%BE%E0%A4%A6%E0%A5%80_%E0%A4%95%E0%A4%AC', 'tweet_volume': 18850}, {'name': '#RashmiVirag', 'url': 'http://twitter.com/search?q=%23RashmiVirag', 'promoted_content': None, 'query': '%23RashmiVirag', 'tweet_volume': None}, {'name': '#Borrder', 'url': 'http://twitter.com/search?q=%23Borrder', 'promoted_content': None, 'query': '%23Borrder', 'tweet_volume': None}, {'name': '#SwatantrataDiwas2021', 'url': 'http://twitter.com/search?q=%23SwatantrataDiwas2021', 'promoted_content': None, 'query': '%23SwatantrataDiwas2021', 'tweet_volume': None}, {'name': '#आजादी_की_75वीं_वर्षगांठ', 'url': 'http://twitter.com/search?q=%23%E0%A4%86%E0%A4%9C%E0%A4%BE%E0%A4%A6%E0%A5%80_%E0%A4%95%E0%A5%80_75%E0%A4%B5%E0%A5%80%E0%A4%82_%E0%A4%B5%E0%A4%B0%E0%A5%8D%E0%A4%B7%E0%A4%97%E0%A4%BE%E0%A4%82%E0%A4%A0', 'promoted_content': None, 'query': '%23%E0%A4%86%E0%A4%9C%E0%A4%BE%E0%A4%A6%E0%A5%80_%E0%A4%95%E0%A5%80_75%E0%A4%B5%E0%A5%80%E0%A4%82_%E0%A4%B5%E0%A4%B0%E0%A5%8D%E0%A4%B7%E0%A4%97%E0%A4%BE%E0%A4%82%E0%A4%A0', 'tweet_volume': None}, {'name': '#AyyappanumKoshiyum', 'url': 'http://twitter.com/search?q=%23AyyappanumKoshiyum', 'promoted_content': None, 'query': '%23AyyappanumKoshiyum', 'tweet_volume': None}, {'name': '#Trivikram', 'url': 'http://twitter.com/search?q=%23Trivikram', 'promoted_content': None, 'query': '%23Trivikram', 'tweet_volume': 108330}, {'name': '#SangolliRayanna', 'url': 'http://twitter.com/search?q=%23SangolliRayanna', 'promoted_content': None, 'query': '%23SangolliRayanna', 'tweet_volume': None}], 'as_of': '2021-08-15T06:51:19Z', 'created_at': '2021-08-07T15:23:50Z', 'locations': [{'name': 'Delhi', 'woeid': 20070458}]}\n"
     ]
    }
   ],
   "source": [
    "for value in Trends:\n",
    "     print(value)"
   ]
  },
  {
   "cell_type": "code",
   "execution_count": 66,
   "metadata": {},
   "outputs": [
    {
     "data": {
      "text/html": [
       "\n",
       "            <div>\n",
       "                <p><b>SparkSession - hive</b></p>\n",
       "                \n",
       "        <div>\n",
       "            <p><b>SparkContext</b></p>\n",
       "\n",
       "            <p><a href=\"http://DESKTOP-J364ET4:4043\">Spark UI</a></p>\n",
       "\n",
       "            <dl>\n",
       "              <dt>Version</dt>\n",
       "                <dd><code>v3.1.2</code></dd>\n",
       "              <dt>Master</dt>\n",
       "                <dd><code>local[*]</code></dd>\n",
       "              <dt>AppName</dt>\n",
       "                <dd><code>PySparkShell</code></dd>\n",
       "            </dl>\n",
       "        </div>\n",
       "        \n",
       "            </div>\n",
       "        "
      ],
      "text/plain": [
       "<pyspark.sql.session.SparkSession at 0x1f6c02f6520>"
      ]
     },
     "execution_count": 66,
     "metadata": {},
     "output_type": "execute_result"
    }
   ],
   "source": [
    "import pyspark\n",
    "from pyspark import SparkContext\n",
    "sc = SparkContext.getOrCreate();\n",
    "import findspark\n",
    "findspark.init()\n",
    "from pyspark.sql import SparkSession\n",
    "spark = SparkSession.builder.master(\"local[*]\").getOrCreate()\n",
    "spark.conf.set(\"spark.sql.repl.eagerEval.enabled\", True) # Property used to format output tables better\n",
    "spark\n"
   ]
  },
  {
   "cell_type": "code",
   "execution_count": 67,
   "metadata": {},
   "outputs": [],
   "source": [
    "#sc.stop()"
   ]
  },
  {
   "cell_type": "code",
   "execution_count": 71,
   "metadata": {},
   "outputs": [],
   "source": [
    "for value in Trends:\n",
    "    rdd = spark.sparkContext.parallelize(value['trends'])\n",
    "Trend_with_hashtag=rdd.toDF(sampleRatio=0.01)"
   ]
  },
  {
   "cell_type": "code",
   "execution_count": 72,
   "metadata": {},
   "outputs": [
    {
     "name": "stdout",
     "output_type": "stream",
     "text": [
      "+--------------------+------------+\n",
      "|                name|tweet_volume|\n",
      "+--------------------+------------+\n",
      "|               Nehru|       44435|\n",
      "|       #NarendraModi|        null|\n",
      "|      Mahatma Gandhi|       12324|\n",
      "|          #IndiaAt75|      197929|\n",
      "|    #IndependenceDay|      377501|\n",
      "|            Jai Hind|      112100|\n",
      "|         #FreeDOMDay|        null|\n",
      "|     #स्वतंत्रतादिवस|      113242|\n",
      "|             Indians|       72170|\n",
      "|       National Flag|       36824|\n",
      "|            Red Fort|       42399|\n",
      "|         Burhan Wani|        null|\n",
      "|      Celebrating 75|        null|\n",
      "|      May the Indian|        null|\n",
      "|           अनमोल समय|        null|\n",
      "|      Sainik Schools|        null|\n",
      "|            As India|       79522|\n",
      "|            लाल किले|       32315|\n",
      "|                AICC|        null|\n",
      "|       #DominosPizza|        null|\n",
      "|           #15August|       54810|\n",
      "|       #BheemlaNayak|      573376|\n",
      "|  #यह_आज़ादी_झूठी_है|      108457|\n",
      "|         #IndianFlag|        null|\n",
      "|#स्‍वतंत्रता_दिवस...|        null|\n",
      "|        #15अगस्त2021|        null|\n",
      "|           #august15|        null|\n",
      "|         #IndianArmy|       21764|\n",
      "|#AzadiKaAmritMaho...|       45965|\n",
      "|#DoctorSKArrivalSoon|       13964|\n",
      "|            #जय_हिंद|       22550|\n",
      "| #FlagshipKiller2021|        null|\n",
      "| #IslamAndPatriotism|       34558|\n",
      "|          #TumAaogey|        null|\n",
      "|     #स्वातंत्र्यदिन|        null|\n",
      "|        #ProudIndian|        null|\n",
      "|      #சுதந்திரதினம்|        null|\n",
      "|#JiminFavoriteMember|       65664|\n",
      "|       #VandeMataram|        null|\n",
      "|#खेती_क़ानूनों_से...|       57278|\n",
      "|        #sundayvibes|        null|\n",
      "|#CongratulationsJ...|       60465|\n",
      "|#आरक्षण_से_आज़ादी_कब|       18850|\n",
      "|        #RashmiVirag|        null|\n",
      "|            #Borrder|        null|\n",
      "|#SwatantrataDiwas...|        null|\n",
      "|#आजादी_की_75वीं_व...|        null|\n",
      "| #AyyappanumKoshiyum|        null|\n",
      "|          #Trivikram|      108330|\n",
      "|    #SangolliRayanna|        null|\n",
      "+--------------------+------------+\n",
      "\n"
     ]
    }
   ],
   "source": [
    "Trend_with_hashtag.createOrReplaceTempView(\"Trend\")\n",
    "TD=spark.sql(\"select name, tweet_volume from Trend\")\n",
    "TD.show(50)"
   ]
  },
  {
   "cell_type": "code",
   "execution_count": 73,
   "metadata": {},
   "outputs": [
    {
     "name": "stdout",
     "output_type": "stream",
     "text": [
      "{'trends': [{'name': 'Mahatma Gandhi', 'url': 'http://twitter.com/search?q=%22Mahatma+Gandhi%22', 'promoted_content': None, 'query': '%22Mahatma+Gandhi%22', 'tweet_volume': 12405}, {'name': 'Jai Hind', 'url': 'http://twitter.com/search?q=%22Jai+Hind%22', 'promoted_content': None, 'query': '%22Jai+Hind%22', 'tweet_volume': 112650}, {'name': 'Indians', 'url': 'http://twitter.com/search?q=Indians', 'promoted_content': None, 'query': 'Indians', 'tweet_volume': 72432}, {'name': 'National Flag', 'url': 'http://twitter.com/search?q=%22National+Flag%22', 'promoted_content': None, 'query': '%22National+Flag%22', 'tweet_volume': 37141}, {'name': 'Red Fort', 'url': 'http://twitter.com/search?q=%22Red+Fort%22', 'promoted_content': None, 'query': '%22Red+Fort%22', 'tweet_volume': 42803}, {'name': 'Burhan Wani', 'url': 'http://twitter.com/search?q=%22Burhan+Wani%22', 'promoted_content': None, 'query': '%22Burhan+Wani%22', 'tweet_volume': None}, {'name': 'Celebrating 75', 'url': 'http://twitter.com/search?q=%22Celebrating+75%22', 'promoted_content': None, 'query': '%22Celebrating+75%22', 'tweet_volume': None}, {'name': 'May the Indian', 'url': 'http://twitter.com/search?q=%22May+the+Indian%22', 'promoted_content': None, 'query': '%22May+the+Indian%22', 'tweet_volume': None}, {'name': 'अनमोल समय', 'url': 'http://twitter.com/search?q=%22%E0%A4%85%E0%A4%A8%E0%A4%AE%E0%A5%8B%E0%A4%B2+%E0%A4%B8%E0%A4%AE%E0%A4%AF%22', 'promoted_content': None, 'query': '%22%E0%A4%85%E0%A4%A8%E0%A4%AE%E0%A5%8B%E0%A4%B2+%E0%A4%B8%E0%A4%AE%E0%A4%AF%22', 'tweet_volume': None}, {'name': 'Sainik Schools', 'url': 'http://twitter.com/search?q=%22Sainik+Schools%22', 'promoted_content': None, 'query': '%22Sainik+Schools%22', 'tweet_volume': None}, {'name': 'As India', 'url': 'http://twitter.com/search?q=%22As+India%22', 'promoted_content': None, 'query': '%22As+India%22', 'tweet_volume': 79724}, {'name': 'लाल किले', 'url': 'http://twitter.com/search?q=%22%E0%A4%B2%E0%A4%BE%E0%A4%B2+%E0%A4%95%E0%A4%BF%E0%A4%B2%E0%A5%87%22', 'promoted_content': None, 'query': '%22%E0%A4%B2%E0%A4%BE%E0%A4%B2+%E0%A4%95%E0%A4%BF%E0%A4%B2%E0%A5%87%22', 'tweet_volume': 32452}, {'name': 'AICC', 'url': 'http://twitter.com/search?q=AICC', 'promoted_content': None, 'query': 'AICC', 'tweet_volume': None}, {'name': 'Nehru', 'url': 'http://twitter.com/search?q=Nehru', 'promoted_content': None, 'query': 'Nehru', 'tweet_volume': 44525}], 'as_of': '2021-08-15T06:54:12Z', 'created_at': '2021-08-14T16:39:33Z', 'locations': [{'name': 'Delhi', 'woeid': 20070458}]}\n"
     ]
    }
   ],
   "source": [
    "trends = api.trends_place(id = woeid,exclude = \"hashtags\")\n",
    "for value in trends:\n",
    "    print(value)"
   ]
  },
  {
   "cell_type": "code",
   "execution_count": 74,
   "metadata": {},
   "outputs": [],
   "source": [
    "for value in trends:\n",
    "    RDD = spark.sparkContext.parallelize(value.get('trends'))\n",
    "trend_without_hashtag=RDD.toDF(sampleRatio=0.01)"
   ]
  },
  {
   "cell_type": "code",
   "execution_count": 75,
   "metadata": {},
   "outputs": [
    {
     "name": "stdout",
     "output_type": "stream",
     "text": [
      "+--------------+------------+\n",
      "|          name|tweet_volume|\n",
      "+--------------+------------+\n",
      "|Mahatma Gandhi|       12405|\n",
      "|      Jai Hind|      112650|\n",
      "|       Indians|       72432|\n",
      "| National Flag|       37141|\n",
      "|      Red Fort|       42803|\n",
      "|   Burhan Wani|        null|\n",
      "|Celebrating 75|        null|\n",
      "|May the Indian|        null|\n",
      "|     अनमोल समय|        null|\n",
      "|Sainik Schools|        null|\n",
      "|      As India|       79724|\n",
      "|      लाल किले|       32452|\n",
      "|          AICC|        null|\n",
      "|         Nehru|       44525|\n",
      "+--------------+------------+\n",
      "\n"
     ]
    }
   ],
   "source": [
    "trend_without_hashtag.createOrReplaceTempView(\"trend\")\n",
    "td=spark.sql(\"select name, tweet_volume from trend\")\n",
    "td.show(50)"
   ]
  },
  {
   "cell_type": "code",
   "execution_count": null,
   "metadata": {},
   "outputs": [],
   "source": []
  }
 ],
 "metadata": {
  "kernelspec": {
   "display_name": "Python 3",
   "language": "python",
   "name": "python3"
  },
  "language_info": {
   "codemirror_mode": {
    "name": "ipython",
    "version": 3
   },
   "file_extension": ".py",
   "mimetype": "text/x-python",
   "name": "python",
   "nbconvert_exporter": "python",
   "pygments_lexer": "ipython3",
   "version": "3.8.8"
  }
 },
 "nbformat": 4,
 "nbformat_minor": 2
}
