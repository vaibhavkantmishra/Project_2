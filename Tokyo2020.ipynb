{
 "cells": [
  {
   "cell_type": "code",
   "execution_count": 10,
   "id": "955ca87d",
   "metadata": {},
   "outputs": [
    {
     "data": {
      "text/html": [
       "\n",
       "            <div>\n",
       "                <p><b>SparkSession - hive</b></p>\n",
       "                \n",
       "        <div>\n",
       "            <p><b>SparkContext</b></p>\n",
       "\n",
       "            <p><a href=\"http://POMISHR-PC:4044\">Spark UI</a></p>\n",
       "\n",
       "            <dl>\n",
       "              <dt>Version</dt>\n",
       "                <dd><code>v3.1.2</code></dd>\n",
       "              <dt>Master</dt>\n",
       "                <dd><code>local[2]</code></dd>\n",
       "              <dt>AppName</dt>\n",
       "                <dd><code>PySparkShell</code></dd>\n",
       "            </dl>\n",
       "        </div>\n",
       "        \n",
       "            </div>\n",
       "        "
      ],
      "text/plain": [
       "<pyspark.sql.session.SparkSession at 0x2673ff5a610>"
      ]
     },
     "execution_count": 10,
     "metadata": {},
     "output_type": "execute_result"
    }
   ],
   "source": [
    "import pyspark\n",
    "from pyspark import SparkContext\n",
    "sc = SparkContext.getOrCreate();\n",
    "import findspark\n",
    "findspark.init()\n",
    "from pyspark.sql import SparkSession\n",
    "spark = SparkSession.builder.master(\"local[*]\").getOrCreate()\n",
    "spark.conf.set(\"spark.sql.repl.eagerEval.enabled\", True) # Property used to format output tables better\n",
    "spark\n"
   ]
  },
  {
   "cell_type": "code",
   "execution_count": 2,
   "id": "213fe0c7",
   "metadata": {},
   "outputs": [],
   "source": [
    "sc.stop()"
   ]
  },
  {
   "cell_type": "code",
   "execution_count": 3,
   "id": "595150a4",
   "metadata": {},
   "outputs": [],
   "source": [
    "import os\n",
    "import tweepy as tw"
   ]
  },
  {
   "cell_type": "code",
   "execution_count": 4,
   "id": "99961c85",
   "metadata": {},
   "outputs": [],
   "source": [
    "access_token = '1423206565994131462-tna3kUkAhtcuFRfztVwoPHHH781NRy'\n",
    "access_token_secret = 'CyVcRBOLhCFYa2D7EOi4yhTlgW7JquMZg5mlA9icbIBDU'\n",
    "consumer_key = 'qw0eB0SUNW3jtn1Z6KRIlcC0e'\n",
    "consumer_secret = 'TnMLL7BMsEEz4B1wOxfjB9b7IqRDUVMghDpshZ3BTgWzhb80iJ'"
   ]
  },
  {
   "cell_type": "code",
   "execution_count": 5,
   "id": "bced7cdc",
   "metadata": {},
   "outputs": [],
   "source": [
    "auth = tw.OAuthHandler(consumer_key,consumer_secret)\n",
    "auth.set_access_token(access_token,access_token_secret)\n",
    "api= tw.API(auth,wait_on_rate_limit =True)"
   ]
  },
  {
   "cell_type": "code",
   "execution_count": 6,
   "id": "56ca56b0",
   "metadata": {},
   "outputs": [
    {
     "data": {
      "text/plain": [
       "['RT @Brenda_Dacres: Had to share this story of showing gratitude to those who help you along the way. \\nYou never know the difference you mak…',\n",
       " 'RT @airnewsalerts: India has won 35 medals at the #Olympics since the 1900 edition and the best ever tally has been recorded at @Tokyo2020…',\n",
       " 'RT @marcoasensio10: It has been an once in a lifetime experience that I will never forget. Winning a medal for Spain and living with every…',\n",
       " \"RT @LPGA: #Tokyo2020 🇯🇵 ➡️ @Womens_Scottish 🏴\\U000e0067\\U000e0062\\U000e0073\\U000e0063\\U000e0074\\U000e007f\\n\\nAfter a stellar finish at the #Olympics, @aditigolf is getting ready for the Women's S…\",\n",
       " 'RT @IAmAnImmigrant: A NEW RECORD: 19-year-old Athing Mu won gold for #TeamUSA and BROKE the American record in the 800m run! The daughter o…',\n",
       " 'RT @JoBrigdenJones: Thank you Tokyo that was amazing\\n\\nYou pulled off the unthinkable to allow 10,000 to realise their dreams. \\nYou brought…',\n",
       " \"RT @JPNadda: Heartiest congratulations to @Neeraj_chopra1 for creating history in #Tokyo2020 Olympics by winning the Gold medal in Men's Ja…\",\n",
       " 'RT @PBNS_India: Punjab government to honor Olympic champion @Neeraj_chopra1 &amp; Tokyo Games medal winners &amp; participants from Punjab with cas…',\n",
       " 'RT @Marielena_TV: ARIGATO GOZAIMAS to the most incredible @Tokyo2020 volunteers who did so much to make these #Olympic Games a success. The…',\n",
       " 'RT @mkstalin: I join the people of Tamilnadu in gratefully acknowledging and appreciating the medalists and participants of #Tokyo2020 #Oly…',\n",
       " 'RT @narendramodi: Just spoke to @Neeraj_chopra1 and congratulated him on winning the Gold! Appreciated his hardwork and tenacity, which hav…',\n",
       " 'RT @Barbie: #Barbie is committed to empowering girls to participate in sports by capturing the fun and friendship of the season, and inspir…',\n",
       " 'RT @mkstalin: I join the people of Tamilnadu in gratefully acknowledging and appreciating the medalists and participants of #Tokyo2020 #Oly…',\n",
       " 'RT @PBNS_India: Punjab government to honor Olympic champion @Neeraj_chopra1 &amp; Tokyo Games medal winners &amp; participants from Punjab with cas…',\n",
       " 'RT @PBNS_India: Punjab government to honor Olympic champion @Neeraj_chopra1 &amp; Tokyo Games medal winners &amp; participants from Punjab with cas…',\n",
       " 'RT @VolleyNationPH: France 🇫🇷 - the Tokyo Olympics Men’s Volleyball Champion! 🥇🥇🥇\\n\\n#Volleyball \\n#Tokyo2020 \\n📸 Clevenot’s IG https://t.co/zX…',\n",
       " 'Punjab government to honor Olympic champion @Neeraj_chopra1 &amp; Tokyo Games medal winners &amp; participants from Punjab… https://t.co/q7bL0umBOH',\n",
       " 'RT @allysonfelix: I’m thankful for the strong role models in my life, and for my daughter, who showed me that greatness is taking action to…',\n",
       " \"RT @WBSC: New WBSC Baseball World Rankings following the #Tokyo2020 Olympic Games!!!  \\n\\nWhere's your country in the rankings?? \\n\\nhttps://t.…\",\n",
       " 'RT @CocaCola: We like your moves, Noah Lyles! On and off the track. @lylesnoah 🕺🏿 #Olympics #Tokyo2020 https://t.co/fqIEs4ZPtu',\n",
       " 'RT @WBSC: Dear #Tokyo2020 Volunteers and Officials: Thank you for helping deliver unforgettable Olympic Baseball and Softball events!\\n\\n📰 ht…',\n",
       " 'RT @CocaCola: Simone Manuel gives her heart and soul in and out of the pool.  We’ll always be inspired by you! @swimone ♥️ 🏊🏾\\u200d♀️ #Tokyo2020…',\n",
       " 'A NEW RECORD: 19-year-old Athing Mu won gold for #TeamUSA and BROKE the American record in the 800m run! The daught… https://t.co/r0WH6k4WeJ',\n",
       " \"RT @harrisharrison: Crowdfunder to buy Saint Boy and let him run around a field to his heart's content so he doesn't have to deal with this…\",\n",
       " 'RT @Olympics: The most emotional moments at #Tokyo2020 !\\n\\n#StrongerTogether https://t.co/tuSJb6JfAF',\n",
       " 'RT @bwfmedia: Happy birthday to the #Tokyo2020 Olympic Champion @GreysPolii  🎁🎂🎉 https://t.co/7GEzpDsLH7',\n",
       " 'RT @yui0630susaki: Thank you #Tokyo2020 https://t.co/BcaI1ecAli',\n",
       " 'RT @shankarstake: Always a pleasure speaking to @aditigolf. She gives clear answers with good perspective. \\n\\nHere she reflects on her perfo…',\n",
       " 'RT @narendramodi: A special thank you to the Government and people of Japan, especially Tokyo for hosting the well-organised games. \\n\\nTo ho…',\n",
       " 'RT @BadmintonTalk: 🥈 #Tokyo2020\\n🥈 Rio de Janeiro 2016\\n🥉 London 2012\\n🥉 Beijing 2008\\n\\nEko Yuli Irawan has become THE FIRST EVER INDONESIAN to…',\n",
       " 'RT @MarkGottlieb: Patty Mills 🐐\\nMen At Work 🎶 \\nBeers 🍻\\n\\nHere’s a party I would’ve loved to be at 🤣🏀\\n\\n#basketball #Tokyo2020 #olympics https…',\n",
       " 'RT @narendramodi: The medals India has won has certainly made our nation proud and elated. \\n\\nAt the same time, this is the time to keep wor…',\n",
       " 'RT @narendramodi: As #Tokyo2020 draws to a close, I would like to congratulate the Indian contingent for their stupendous performance at th…',\n",
       " 'RT @aishiterutokyo: Celtic fans should have no complaints about this if it comes to pass; Itakura did very well at the #Tokyo2020 #Olympics…',\n",
       " 'RT @mkstalin: I join the people of Tamilnadu in gratefully acknowledging and appreciating the medalists and participants of #Tokyo2020 #Oly…',\n",
       " 'RT @narendramodi: Delightful news from #Tokyo2020! Spectacularly fought @BajrangPunia. Congratulations to you for your accomplishment, whic…',\n",
       " 'RT @narendramodi: Just spoke to @Neeraj_chopra1 and congratulated him on winning the Gold! Appreciated his hardwork and tenacity, which hav…',\n",
       " \"RT @Chihiro15_17: Olympics celebration with Korai and handball!\\nYes I'm aware the Olympics are ended.. But I'm having so much fun with this…\",\n",
       " 'RT @Olympics: The most emotional moments at #Tokyo2020 !\\n\\n#StrongerTogether https://t.co/tuSJb6JfAF',\n",
       " \"RT @bwfmedia: Japan's 🇯🇵 @momota_kento is only human and will bounce back, says Morten Frost. 💪\\n\\n#BadmintonUnlimited #Tokyo2020 #Olympics h…\",\n",
       " 'RT @marcoasensio10: It has been an once in a lifetime experience that I will never forget. Winning a medal for Spain and living with every…',\n",
       " 'RT @vijayanpinarayi: Announced a reward of ₹2 crore for Olympics bronze medalist @16Sreejesh. In addition to that, he has been promoted as…',\n",
       " 'RT @KaleidoscopeHRF: #Japan: HR groups call failure to pass #LGBT non-discrimination law prior to #Tokyo2020 a \"lost opportunity\".\\n\\n\"PM Sug…',\n",
       " 'RT @TeamGB: 🗣“Olympics? Completed it.” 😂\\n\\nThere were some iconic lines from the athletes at #Tokyo2020. Here are the best of the lot from #…',\n",
       " 'RT @InsideCroydon: Crystal Palace at risk as London squanders its Olympic legacy #Croydon #Tokyo2020 \\u2066@TomDaley1994\\u2069 \\u2066@sebcoe\\u2069 \\u2066@SadiqKhan\\u2069…',\n",
       " 'RT @Olympics: Remembering when the Fadinha wowed the world! 🛹🇧🇷\\n\\nRayssa Leal’s skating and smiles were among the many highlights of #Tokyo2…',\n",
       " 'RT @Olympics: Remembering when the Fadinha wowed the world! 🛹🇧🇷\\n\\nRayssa Leal’s skating and smiles were among the many highlights of #Tokyo2…',\n",
       " 'RT @mkstalin: I join the people of Tamilnadu in gratefully acknowledging and appreciating the medalists and participants of #Tokyo2020 #Oly…',\n",
       " 'RT @FIBA: 🐐×🇪🇸×🐐\\n\\nTwo of the greatest in international hoops, with a trophy case to prove it 🏆🏅\\n\\n#Tokyo2020 | #Basketball https://t.co/26Hm…',\n",
       " 'RT @usavolleyball: How we feeling USA Volleyball fans? 😁 #Tokyo2020 \\n\\n📷 @volleyballworld https://t.co/JtQSpcOirX']"
      ]
     },
     "execution_count": 6,
     "metadata": {},
     "output_type": "execute_result"
    }
   ],
   "source": [
    "tweets = tw.Cursor(api.search, q=\"#Tokyo2020\", since = \"2021-07-05\", until = \"2021-08-12\",lang=\"en\").items(50)\n",
    "#[tweet.text for tweet in tweets]"
   ]
  },
  {
   "cell_type": "code",
   "execution_count": 7,
   "id": "f498d456",
   "metadata": {},
   "outputs": [
    {
     "data": {
      "text/plain": [
       "'#Tokyo2020 -filter:retweets'"
      ]
     },
     "execution_count": 7,
     "metadata": {},
     "output_type": "execute_result"
    }
   ],
   "source": [
    "new_search= \"#Tokyo2020\" +\" -filter:retweets\"\n",
    "new_search"
   ]
  },
  {
   "cell_type": "code",
   "execution_count": 16,
   "id": "37da4e13",
   "metadata": {},
   "outputs": [],
   "source": [
    "tweets = tw.Cursor(api.search, q=\"#Tokyo2020\", since = \"2021-07-05\", until = \"2021-08-12\",lang=\"en\").items(50)\n",
    "users_details = [(tweet.user.screen_name,tweet.user.name)for tweet in tweets]\n",
    "#users_details.count()"
   ]
  },
  {
   "cell_type": "code",
   "execution_count": 18,
   "id": "cc1e2f0c",
   "metadata": {},
   "outputs": [
    {
     "name": "stdout",
     "output_type": "stream",
     "text": [
      "root\n",
      " |-- screen_name: string (nullable = true)\n",
      " |-- name: string (nullable = true)\n",
      "\n",
      "+---------------+-----------------------------------------+\n",
      "|screen_name    |name                                     |\n",
      "+---------------+-----------------------------------------+\n",
      "|blackyouth2    |Barbara                                  |\n",
      "|bindiya_reddy  |SSR opened our eyes                      |\n",
      "|naaaaaonet     |なおた                                   |\n",
      "|DemocracyNature|NG                                       |\n",
      "|ccambises      |Christopher Cambises                     |\n",
      "|z0uCcB998Fdc8OX|はいほー！                               |\n",
      "|Satyana69318686|सत्यानन्द पाण्डेय                        |\n",
      "|Shashan20797894|शशांक गुप्ता🇮🇳Shashank Gupta           |\n",
      "|NankoAi        |nanko_ai                                 |\n",
      "|punitha80986562|கவிஞர். கிரு. சுந்தரேசன்                 |\n",
      "|Satyana69318686|सत्यानन्द पाण्डेय                        |\n",
      "|usagi_melou    |マイ甘風                                 |\n",
      "|nartamil       |NarTamil mani                            |\n",
      "|PIBKohima      |PIB in Nagaland                          |\n",
      "|SherBah46958042|Sher Bahadur                             |\n",
      "|_Sammieyy_     |•あら　あら•                             |\n",
      "|PBNS_India     |Prasar Bharati News Services पी.बी.एन.एस.|\n",
      "|graciesopopular|Gracie✨                                  |\n",
      "|K_taro3306     |かみ                                     |\n",
      "|Estrell84378344|Estrella                                 |\n",
      "+---------------+-----------------------------------------+\n",
      "only showing top 20 rows\n",
      "\n"
     ]
    }
   ],
   "source": [
    "from pyspark.sql.types import StructType,StructField, StringType, IntegerType\n",
    "schema = StructType([ \\\n",
    "    StructField(\"screen_name\",StringType(),True), \\\n",
    "    StructField(\"name\", StringType(), True), \\\n",
    "  ])\n",
    " \n",
    "df = spark.createDataFrame(data=users_details,schema=schema)\n",
    "df.printSchema()\n",
    "df.show(truncate=False)"
   ]
  },
  {
   "cell_type": "code",
   "execution_count": null,
   "id": "84ef7709",
   "metadata": {},
   "outputs": [],
   "source": []
  }
 ],
 "metadata": {
  "kernelspec": {
   "display_name": "Python 3",
   "language": "python",
   "name": "python3"
  },
  "language_info": {
   "codemirror_mode": {
    "name": "ipython",
    "version": 3
   },
   "file_extension": ".py",
   "mimetype": "text/x-python",
   "name": "python",
   "nbconvert_exporter": "python",
   "pygments_lexer": "ipython3",
   "version": "3.8.8"
  }
 },
 "nbformat": 4,
 "nbformat_minor": 5
}
