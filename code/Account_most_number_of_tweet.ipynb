{
 "cells": [
  {
   "cell_type": "code",
   "execution_count": 1,
   "id": "d4257a45",
   "metadata": {},
   "outputs": [
    {
     "data": {
      "text/html": [
       "\n",
       "            <div>\n",
       "                <p><b>SparkSession - hive</b></p>\n",
       "                \n",
       "        <div>\n",
       "            <p><b>SparkContext</b></p>\n",
       "\n",
       "            <p><a href=\"http://DESKTOP-RGOI8RA:4043\">Spark UI</a></p>\n",
       "\n",
       "            <dl>\n",
       "              <dt>Version</dt>\n",
       "                <dd><code>v3.1.2</code></dd>\n",
       "              <dt>Master</dt>\n",
       "                <dd><code>local[2]</code></dd>\n",
       "              <dt>AppName</dt>\n",
       "                <dd><code>PySparkShell</code></dd>\n",
       "            </dl>\n",
       "        </div>\n",
       "        \n",
       "            </div>\n",
       "        "
      ],
      "text/plain": [
       "<pyspark.sql.session.SparkSession at 0x22498915550>"
      ]
     },
     "execution_count": 1,
     "metadata": {},
     "output_type": "execute_result"
    }
   ],
   "source": [
    "import pyspark\n",
    "import pyspark.sql\n",
    "from pyspark import SparkContext\n",
    "sc = SparkContext.getOrCreate();\n",
    "import findspark\n",
    "findspark.init()\n",
    "from pyspark.sql import SparkSession\n",
    "spark = SparkSession.builder.master(\"local[*]\").getOrCreate()\n",
    "spark.conf.set(\"spark.sql.repl.eagerEval.enabled\", True) # Property used to format output tables better\n",
    "spark"
   ]
  },
  {
   "cell_type": "markdown",
   "id": "b116432c",
   "metadata": {},
   "source": [
    "data.createorReplaceTempview('data')\n",
    "spark.sql(\"select * from data oreder by tweet_count)"
   ]
  },
  {
   "cell_type": "code",
   "execution_count": 2,
   "id": "888e75e3",
   "metadata": {},
   "outputs": [],
   "source": [
    "q_5=spark.read.format(\"com.databricks.spark.csv\").options(inferSchema=\"true\",header='true',escape='\"').load(\"gender-classifier-DFE-791531.csv\")\n"
   ]
  },
  {
   "cell_type": "code",
   "execution_count": 3,
   "id": "d8f941b8",
   "metadata": {},
   "outputs": [
    {
     "name": "stdout",
     "output_type": "stream",
     "text": [
      "+---------+---------+---------+------------------+------------------+------------------+-----------------+----------+---------------------+----------------+--------------------+----------+-----------+----------+---------------+---------------+--------------------+-------------+-------------+--------------------+-----------+\n",
      "|_unit_id0|_unit_id1|_unit_id2|_trusted_judgments|_last_judgment_at4|_last_judgment_at5|gender:confidence|profile_yn|profile_yn:confidence|         created|         description|fav_number|gender_gold|link_color|           name|profile_yn_gold|        profileimage|retweet_count|sidebar_color|                text|tweet_count|\n",
      "+---------+---------+---------+------------------+------------------+------------------+-----------------+----------+---------------------+----------------+--------------------+----------+-----------+----------+---------------+---------------+--------------------+-------------+-------------+--------------------+-----------+\n",
      "|815719226|    FALSE|finalized|                 3|    10/26/15 23:24|              male|                1|       yes|                    1|12-05-2013 01:48|i sing my own rhy...|         0|       null|    08C2C2|        sheezy0|           null|https://pbs.twimg...|            0|       FFFFFF|Robbie E Responds...|     110964|\n",
      "|815719227|    FALSE|finalized|                 3|    10/26/15 23:30|              male|                1|       yes|                    1|10-01-2012 13:51|I'm the author of...|        68|       null|    0084B4|    DavdBurnett|           null|https://pbs.twimg...|            0|       C0DEED|���It felt like t...|       7471|\n",
      "|815719228|    FALSE|finalized|                 3|    10/26/15 23:33|              male|           0.6625|       yes|                    1|  11/28/14 11:30|louis whining and...|      7696|       null|    ABB8C2| lwtprettylaugh|           null|https://pbs.twimg...|            1|       C0DEED|i absolutely ador...|       5617|\n",
      "|815719229|    FALSE|finalized|                 3|    10/26/15 23:10|              male|                1|       yes|                    1|06-11-2009 22:39|Mobile guy.  49er...|       202|       null|    0084B4|    douggarland|           null|https://pbs.twimg...|            0|       C0DEED|Hi @JordanSpieth ...|       1693|\n",
      "|815719230|    FALSE|finalized|                 3|     10/27/15 1:15|            female|                1|       yes|                    1|   4/16/14 13:23|Ricky Wilson The ...|     37318|       null|    3B94D9|   WilfordGemma|           null|https://pbs.twimg...|            0|            0|Watching Neighbou...|      31462|\n",
      "|815719231|    FALSE|finalized|                 3|     10/27/15 1:47|            female|                1|       yes|                    1|03-11-2010 18:14|  you don't know me.|      3901|       null|    F5ABB5|  monroevicious|           null|https://pbs.twimg...|            0|            0|Ive seen people o...|      20036|\n",
      "|815719232|    FALSE|finalized|                 3|     10/27/15 1:57|             brand|                1|       yes|                    1|   4/24/08 13:03|A global marketpl...|      4122|       null|    298AAE|   Shutterstock|           null|https://pbs.twimg...|            0|            0|@BpackEngineer Th...|      13354|\n",
      "|815719233|    FALSE|finalized|                 3|    10/26/15 23:48|              male|                1|       yes|                    1|12-03-2012 21:54|The secret of get...|        80|       null|    0000FF|     RobinMeske|           null|https://pbs.twimg...|            0|       C0DEED|Gala Bingo clubs ...|     112117|\n",
      "|815719234|    FALSE|finalized|                 3|     10/27/15 1:52|            female|                1|       yes|                    1|09-08-2015 04:50|Pll Fan // Crazy ...|      1825|       null|    9266CC|      pigzilla_|           null|https://pbs.twimg...|            0|            0|@_Aphmau_ the pic...|        482|\n",
      "|815719235|    FALSE|finalized|                 3|     10/27/15 1:49|            female|                1|       yes|                    1|    5/13/11 3:32|Renaissance art h...|      3115|       null|    9266CC|  GabrieleNeher|           null|https://pbs.twimg...|            0|       FFFFFF|@Evielady just ho...|      26085|\n",
      "|815719236|    FALSE|finalized|                 3|    10/26/15 23:17|             brand|           0.7002|       yes|                    1|  11/16/11 17:14|Clean food that t...|       516|       null|    0084B4|  Blissful_Eats|           null|https://pbs.twimg...|            0|       C0DEED|how are you takin...|       5179|\n",
      "|815719237|    FALSE|finalized|                 3|    10/26/15 22:33|             brand|                1|       yes|                    1|   2/22/15 20:06|highly extraordin...|         0|       null|    0084B4|   eliseotecleo|           null|https://pbs.twimg...|            0|       C0DEED|MTG Deals 1x Rank...|      66684|\n",
      "|815719238|    FALSE|finalized|                 3|    10/26/15 22:20|            female|           0.6509|       yes|                    1|08-10-2012 05:05|Senior '16 . XI-X...|      3371|       null|    0084B4| kaylanabrewer_|           null|https://pbs.twimg...|            0|       FFFFFF|Just put my ass o...|      13585|\n",
      "|815719239|    FALSE|finalized|                 3|    10/26/15 23:29|             brand|                1|       yes|                    1|05-01-2012 22:14|Come join the fas...|         0|       null|    2FC2EF|  americacredit|           null|https://pbs.twimg...|            0|       181A1E|https://t.co/z4sb...|     199466|\n",
      "|815719240|    FALSE|finalized|                 3|     10/27/15 1:29|            female|           0.6501|       yes|                    1|04-06-2013 15:31|im just here for ...|     13928|       null|    0084B4|       cheyflan|           null|https://pbs.twimg...|            0|       FFFFFF|will i even need ...|      18469|\n",
      "|815719241|    FALSE|finalized|                 3|     10/27/15 1:50|            female|                1|       yes|                    1|10-03-2015 21:32|                null|         0|       null|    0084B4|      Ayu7sith4|           null|https://pbs.twimg...|            0|       C0DEED|https://t.co/EROG...|      44421|\n",
      "|815719242|    FALSE|finalized|                 3|    10/26/15 23:43|            female|                1|       yes|                    1|    8/27/11 9:42|           JMKM�_ҕ��|      1762|       null|     58185|   Toucaan_Samm|           null|https://pbs.twimg...|            0|       EEEEEE|@giannaaa28 lmao ...|      16627|\n",
      "|815719243|    FALSE|finalized|                 3|    10/26/15 22:50|              male|                1|       yes|                    1|  10/18/09 11:41|Over enthusiastic...|         5|       null|    0084B4|     SSmyth2010|           null|https://pbs.twimg...|            0|       C0DEED|@coolyazzy94 Ditt...|         91|\n",
      "|815719244|    FALSE|finalized|                 3|     10/27/15 1:42|              male|                1|       yes|                    1|   7/20/15 12:01|                null|         1|       null|    0084B4|DarkToonsGaming|           null|https://pbs.twimg...|            0|       C0DEED|@CaribBros @JstSa...|         13|\n",
      "|815719245|    FALSE|finalized|                 3|    10/26/15 22:19|           unknown|           0.3527|       yes|                    1|    1/30/15 9:52|                null|       160|       null|    0084B4|    GourlayLynn|           null|https://pbs.twimg...|            0|            0|Me too, saw five ...|       2398|\n",
      "+---------+---------+---------+------------------+------------------+------------------+-----------------+----------+---------------------+----------------+--------------------+----------+-----------+----------+---------------+---------------+--------------------+-------------+-------------+--------------------+-----------+\n",
      "only showing top 20 rows\n",
      "\n"
     ]
    }
   ],
   "source": [
    "q_5.show()"
   ]
  },
  {
   "cell_type": "code",
   "execution_count": 4,
   "id": "b5da6d2f",
   "metadata": {},
   "outputs": [
    {
     "name": "stdout",
     "output_type": "stream",
     "text": [
      "+---------------+-----------+\n",
      "|           name|tweet_count|\n",
      "+---------------+-----------+\n",
      "|   gabrieldsmqs|    2680199|\n",
      "|       Map_Game|    2372591|\n",
      "|      securenet|    2063482|\n",
      "|      vaporware|    1635317|\n",
      "|    virginmedia|    1302658|\n",
      "|    virginmedia|    1302593|\n",
      "|   Youjizz_free|    1213665|\n",
      "|   Youjizz_free|    1213663|\n",
      "|   Youjizz_free|    1213513|\n",
      "|   Youjizz_free|    1213512|\n",
      "|      cgnetwork|    1195667|\n",
      "|       VJB_Live|    1195248|\n",
      "|       VJB_Live|    1195187|\n",
      "|SparVolltreffer|    1167647|\n",
      "|   Daniell_MUFC|    1153937|\n",
      "| alexablackchan|    1125963|\n",
      "|   statweestics|    1112889|\n",
      "|        ronfeir|    1111596|\n",
      "|Mathematics1001|    1075021|\n",
      "|Mathematics1001|    1074990|\n",
      "+---------------+-----------+\n",
      "only showing top 20 rows\n",
      "\n"
     ]
    }
   ],
   "source": [
    "q_5.select('name','tweet_count').distinct().where(q_5.tweet_count>100000).sort(q_5.tweet_count.desc()).show()\n"
   ]
  },
  {
   "cell_type": "code",
   "execution_count": null,
   "id": "12870b92",
   "metadata": {},
   "outputs": [],
   "source": []
  }
 ],
 "metadata": {
  "kernelspec": {
   "display_name": "Python 3",
   "language": "python",
   "name": "python3"
  },
  "language_info": {
   "codemirror_mode": {
    "name": "ipython",
    "version": 3
   },
   "file_extension": ".py",
   "mimetype": "text/x-python",
   "name": "python",
   "nbconvert_exporter": "python",
   "pygments_lexer": "ipython3",
   "version": "3.8.8"
  }
 },
 "nbformat": 4,
 "nbformat_minor": 5
}
