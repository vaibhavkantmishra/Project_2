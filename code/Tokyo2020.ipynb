{
 "cells": [
  {
   "cell_type": "code",
   "execution_count": 20,
   "id": "955ca87d",
   "metadata": {},
   "outputs": [
    {
     "data": {
      "text/html": [
       "\n",
       "            <div>\n",
       "                <p><b>SparkSession - hive</b></p>\n",
       "                \n",
       "        <div>\n",
       "            <p><b>SparkContext</b></p>\n",
       "\n",
       "            <p><a href=\"http://DESKTOP-RGOI8RA:4040\">Spark UI</a></p>\n",
       "\n",
       "            <dl>\n",
       "              <dt>Version</dt>\n",
       "                <dd><code>v3.1.2</code></dd>\n",
       "              <dt>Master</dt>\n",
       "                <dd><code>local[2]</code></dd>\n",
       "              <dt>AppName</dt>\n",
       "                <dd><code>PySparkShell</code></dd>\n",
       "            </dl>\n",
       "        </div>\n",
       "        \n",
       "            </div>\n",
       "        "
      ],
      "text/plain": [
       "<pyspark.sql.session.SparkSession at 0x26ce914feb0>"
      ]
     },
     "execution_count": 20,
     "metadata": {},
     "output_type": "execute_result"
    }
   ],
   "source": [
    "import pyspark\n",
    "from pyspark import SparkContext\n",
    "sc = SparkContext.getOrCreate();\n",
    "import findspark\n",
    "findspark.init()\n",
    "from pyspark.sql import SparkSession\n",
    "spark = SparkSession.builder.master(\"local[*]\").getOrCreate()\n",
    "spark.conf.set(\"spark.sql.repl.eagerEval.enabled\", True) # Property used to format output tables better\n",
    "spark\n"
   ]
  },
  {
   "cell_type": "code",
   "execution_count": 12,
   "id": "213fe0c7",
   "metadata": {},
   "outputs": [],
   "source": [
    "sc.stop()"
   ]
  },
  {
   "cell_type": "code",
   "execution_count": 13,
   "id": "595150a4",
   "metadata": {},
   "outputs": [],
   "source": [
    "import os\n",
    "import tweepy as tw"
   ]
  },
  {
   "cell_type": "code",
   "execution_count": 14,
   "id": "99961c85",
   "metadata": {},
   "outputs": [],
   "source": [
    "access_token = '1423206565994131462-tna3kUkAhtcuFRfztVwoPHHH781NRy'\n",
    "access_token_secret = 'CyVcRBOLhCFYa2D7EOi4yhTlgW7JquMZg5mlA9icbIBDU'\n",
    "consumer_key = 'qw0eB0SUNW3jtn1Z6KRIlcC0e'\n",
    "consumer_secret = 'TnMLL7BMsEEz4B1wOxfjB9b7IqRDUVMghDpshZ3BTgWzhb80iJ'"
   ]
  },
  {
   "cell_type": "code",
   "execution_count": 15,
   "id": "bced7cdc",
   "metadata": {},
   "outputs": [],
   "source": [
    "auth = tw.OAuthHandler(consumer_key,consumer_secret)\n",
    "auth.set_access_token(access_token,access_token_secret)\n",
    "api= tw.API(auth,wait_on_rate_limit =True)"
   ]
  },
  {
   "cell_type": "code",
   "execution_count": 16,
   "id": "56ca56b0",
   "metadata": {},
   "outputs": [],
   "source": [
    "tweets = tw.Cursor(api.search, q=\"#Tokyo2020\", since = \"2021-07-05\", until = \"2021-08-12\",lang=\"en\").items(50)\n",
    "#[tweet.text for tweet in tweets]"
   ]
  },
  {
   "cell_type": "code",
   "execution_count": 17,
   "id": "f498d456",
   "metadata": {},
   "outputs": [
    {
     "data": {
      "text/plain": [
       "'#Tokyo2020 -filter:retweets'"
      ]
     },
     "execution_count": 17,
     "metadata": {},
     "output_type": "execute_result"
    }
   ],
   "source": [
    "new_search= \"#Tokyo2020\" +\" -filter:retweets\"\n",
    "new_search"
   ]
  },
  {
   "cell_type": "code",
   "execution_count": 18,
   "id": "37da4e13",
   "metadata": {},
   "outputs": [],
   "source": [
    "tweets = tw.Cursor(api.search, q=\"#Tokyo2020\", since = \"2021-07-05\", until = \"2021-08-12\",lang=\"en\").items(50)\n",
    "users_details = [(tweet.user.screen_name,tweet.user.name)for tweet in tweets]\n",
    "#users_details.count()"
   ]
  },
  {
   "cell_type": "code",
   "execution_count": 21,
   "id": "cc1e2f0c",
   "metadata": {},
   "outputs": [
    {
     "name": "stdout",
     "output_type": "stream",
     "text": [
      "root\n",
      " |-- screen_name: string (nullable = true)\n",
      " |-- name: string (nullable = true)\n",
      "\n",
      "+---------------+-----------------------------------------+\n",
      "|screen_name    |name                                     |\n",
      "+---------------+-----------------------------------------+\n",
      "|blackyouth2    |Barbara                                  |\n",
      "|bindiya_reddy  |SSR opened our eyes                      |\n",
      "|naaaaaonet     |なおた                                   |\n",
      "|DemocracyNature|NG                                       |\n",
      "|ccambises      |Christopher Cambises                     |\n",
      "|z0uCcB998Fdc8OX|はいほー！                               |\n",
      "|Satyana69318686|सत्यानन्द पाण्डेय                        |\n",
      "|Shashan20797894|शशांक गुप्ता🇮🇳Shashank Gupta           |\n",
      "|NankoAi        |nanko_ai                                 |\n",
      "|punitha80986562|கவிஞர். கிரு. சுந்தரேசன்                 |\n",
      "|Satyana69318686|सत्यानन्द पाण्डेय                        |\n",
      "|usagi_melou    |マイ甘風                                 |\n",
      "|nartamil       |NarTamil mani                            |\n",
      "|PIBKohima      |PIB in Nagaland                          |\n",
      "|SherBah46958042|Sher Bahadur                             |\n",
      "|_Sammieyy_     |•あら　あら•                             |\n",
      "|PBNS_India     |Prasar Bharati News Services पी.बी.एन.एस.|\n",
      "|graciesopopular|Gracie✨                                  |\n",
      "|K_taro3306     |かみ                                     |\n",
      "|Estrell84378344|Estrella                                 |\n",
      "+---------------+-----------------------------------------+\n",
      "only showing top 20 rows\n",
      "\n"
     ]
    }
   ],
   "source": [
    "from pyspark.sql.types import StructType,StructField, StringType, IntegerType\n",
    "schema = StructType([ \\\n",
    "    StructField(\"screen_name\",StringType(),True), \\\n",
    "    StructField(\"name\", StringType(), True), \\\n",
    "  ])\n",
    " \n",
    "df = spark.createDataFrame(data=users_details,schema=schema)\n",
    "df.printSchema()\n",
    "df.show(truncate=False)"
   ]
  },
  {
   "cell_type": "code",
   "execution_count": null,
   "id": "84ef7709",
   "metadata": {},
   "outputs": [],
   "source": []
  }
 ],
 "metadata": {
  "kernelspec": {
   "display_name": "Python 3",
   "language": "python",
   "name": "python3"
  },
  "language_info": {
   "codemirror_mode": {
    "name": "ipython",
    "version": 3
   },
   "file_extension": ".py",
   "mimetype": "text/x-python",
   "name": "python",
   "nbconvert_exporter": "python",
   "pygments_lexer": "ipython3",
   "version": "3.8.8"
  }
 },
 "nbformat": 4,
 "nbformat_minor": 5
}
