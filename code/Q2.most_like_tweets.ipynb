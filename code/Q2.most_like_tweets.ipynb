{
 "cells": [
  {
   "cell_type": "code",
   "execution_count": 1,
   "metadata": {},
   "outputs": [
    {
     "data": {
      "text/html": [
       "\n",
       "            <div>\n",
       "                <p><b>SparkSession - hive</b></p>\n",
       "                \n",
       "        <div>\n",
       "            <p><b>SparkContext</b></p>\n",
       "\n",
       "            <p><a href=\"http://DESKTOP-RGOI8RA:4042\">Spark UI</a></p>\n",
       "\n",
       "            <dl>\n",
       "              <dt>Version</dt>\n",
       "                <dd><code>v3.1.2</code></dd>\n",
       "              <dt>Master</dt>\n",
       "                <dd><code>local[2]</code></dd>\n",
       "              <dt>AppName</dt>\n",
       "                <dd><code>PySparkShell</code></dd>\n",
       "            </dl>\n",
       "        </div>\n",
       "        \n",
       "            </div>\n",
       "        "
      ],
      "text/plain": [
       "<pyspark.sql.session.SparkSession at 0x25ae3765550>"
      ]
     },
     "execution_count": 1,
     "metadata": {},
     "output_type": "execute_result"
    }
   ],
   "source": [
    "import pyspark\n",
    "from pyspark import SparkContext\n",
    "sc = SparkContext.getOrCreate();\n",
    "import findspark\n",
    "findspark.init()\n",
    "from pyspark.sql import SparkSession\n",
    "spark = SparkSession.builder.master(\"local[*]\").getOrCreate()\n",
    "spark.conf.set(\"spark.sql.repl.eagerEval.enabled\", True) # Property used to format output tables better\n",
    "spark"
   ]
  },
  {
   "cell_type": "code",
   "execution_count": 2,
   "metadata": {},
   "outputs": [],
   "source": [
    "from pyspark.sql import functions as F"
   ]
  },
  {
   "cell_type": "code",
   "execution_count": 6,
   "metadata": {},
   "outputs": [],
   "source": [
    "fl = spark.read.format(\"com.databricks.spark.csv\").options(inferSchema=\"true\",header='true',escape='\"').load(\"followers.csv\")\n",
    "\n",
    "followers = fl.select([F.col(col).alias(col.replace(' ', '_')) for col in fl.columns])"
   ]
  },
  {
   "cell_type": "code",
   "execution_count": 7,
   "metadata": {},
   "outputs": [],
   "source": [
    "flg = spark.read.format(\"com.databricks.spark.csv\").options(inferSchema=\"true\",header='true',escape='\"').load(\"followings.csv\")\n",
    "\n",
    "followings = flg.select([F.col(col).alias(col.replace(' ', '_')) for col in flg.columns])"
   ]
  },
  {
   "cell_type": "code",
   "execution_count": 8,
   "metadata": {},
   "outputs": [],
   "source": [
    "twt = spark.read.format(\"com.databricks.spark.csv\").options(inferSchema=\"true\",header='true',escape='\"').load(\"tweets.csv\")\n",
    "\n",
    "tweets = twt.select([F.col(col).alias(col.replace(' ', '_')) for col in twt.columns])"
   ]
  },
  {
   "cell_type": "code",
   "execution_count": 9,
   "metadata": {},
   "outputs": [
    {
     "name": "stdout",
     "output_type": "stream",
     "text": [
      "+--------------------+--------------------+---------------+-------------------------+------------------------+------------------------+------------+-------+--------------------+--------------------+---------------+-------------------+-----------+--------------------+--------------------+--------------------------+---------------------+\n",
      "|             User_Id|                Name|       Username|Twitter_Joined_Date_(UTC)|Verified_or_Non-Verified|                     Bio|    Location|Website|        Tweets_Count|     Following_Count|Followers_Count|        Lists_Count|Likes_Count|         Profile_URL| Profile_Picture_URL|Protected_or_Not_Protected|Last_Tweet_Date_(UTC)|\n",
      "+--------------------+--------------------+---------------+-------------------------+------------------------+------------------------+------------+-------+--------------------+--------------------+---------------+-------------------+-----------+--------------------+--------------------+--------------------------+---------------------+\n",
      "|\"1158025822290059...|                rain|   rain81490575|      2019-08-04 14:44:05|            Non-Verified|\"マイペースに紹介します\"|        null|   null|                   3|                 421|             13|                  0|          9|https://twitter.c...|https://abs.twimg...|             Not Protected|  2019-08-16 03:39:20|\n",
      "|\"1164475620903903...|                 ame|    ame70728198|      2019-08-22 09:54:30|            Non-Verified|                      \"\"|        null|   null|                   0|                  14|              0|                  0|          0|https://twitter.c...|https://abs.twimg...|             Not Protected|                 null|\n",
      "|\"844975723160973313\"|      𝑩𝒐𝒖𝒚𝒆́ 💥|  MoussabacharV|      2017-03-23 18:14:46|            Non-Verified|    \"𝐹𝑟𝑜𝑚 𝐶𝘩𝑎?...|  Costa Rica|   null|                3866|                1746|           2805|                  2|      10865|https://twitter.c...|https://pbs.twimg...|             Not Protected|  2019-08-16 22:42:34|\n",
      "|        \"4543253294\"|     Kerry McPherson|     KerianeMcP|      2015-12-13 02:33:37|            Non-Verified|                      \"\"|        null|   null|                  16|                 187|             19|                  0|         46|https://twitter.c...|https://abs.twimg...|             Not Protected|  2019-08-16 23:51:42|\n",
      "|\"1159147754070958...|               Joker|  Joker77718659|      2019-08-07 17:02:15|            Non-Verified|           \"joker12jo21\"|        null|   null|                   1|                 328|             59|                  0|         12|https://twitter.c...|https://pbs.twimg...|             Not Protected|  2019-08-07 20:36:50|\n",
      "|\"1164473515778564...|         Malu Leon💓|      MaluLeon4|      2019-08-22 09:45:08|            Non-Verified|                \"Family\"|        null|   null|                   0|                  97|              0|                  0|          1|https://twitter.c...|https://pbs.twimg...|             Not Protected|                 null|\n",
      "|\"1164473824768909...|           mixed_mir|  makai37149898|      2019-08-22 09:46:18|            Non-Verified|                      \"\"|        null|   null|                   0|                   5|              0|                  0|          0|https://twitter.c...|https://pbs.twimg...|             Not Protected|                 null|\n",
      "|\"1164474464874237...|      Klaudia Kupiec|  KupiecKlaudia|      2019-08-22 09:49:23|            Non-Verified|    \"🌹04.06.17 - my ...|        null|   null|                null|                null|           null|               null|       null|                null|                null|                      null|                 null|\n",
      "|🐾Uni girl - my p...|                null|           null|                     null|                    null|                    null|        null|   null|                null|                null|           null|               null|       null|                null|                null|                      null|                 null|\n",
      "|🌻🇵🇱- 🇬🇧- my ...|                null|           null|                     null|                    null|                    null|        null|   null|                null|                null|           null|               null|       null|                null|                null|                      null|                 null|\n",
      "|Winter baby 😚 - ...|                null|           null|                        0|                      61|                       0|           0|      0|https://twitter.c...|https://pbs.twimg...|  Not Protected|               null|       null|                null|                null|                      null|                 null|\n",
      "|\"969667633359523846\"|            Kingston|Kingsto27580963|      2018-03-02 20:15:54|            Non-Verified|    \"Am straightforwa...|     Nigeria|   null|                   8|                  61|              3|                  0|          1|https://twitter.c...|https://pbs.twimg...|             Not Protected|  2019-07-24 16:27:06|\n",
      "|\"1164473625405054...|              nrshra|        nrshra7|      2019-08-22 09:46:05|            Non-Verified|    \"Work hard to bei...|        null|   null|                   0|                 100|              0|                  0|          0|https://twitter.c...|https://pbs.twimg...|             Not Protected|                 null|\n",
      "|          \"30318523\"|cesley (CC)☮🖤🐾?...|         cc7369|      2009-04-10 21:32:53|            Non-Verified|    \"My hero is.........|Florida, USA|   null|                 119|                 686|             98|                  0|        214|https://twitter.c...|https://pbs.twimg...|             Not Protected|  2019-06-17 22:46:54|\n",
      "|\"1164468840010592...|pablochavezperez0...|pablochavezper3|      2019-08-22 09:26:51|            Non-Verified|    \"caminar con los ...|        null|   null|                   0|                 101|              1|                  0|          0|https://twitter.c...|https://pbs.twimg...|             Not Protected|                 null|\n",
      "|\"1164475386211831...| Vera Daniela Campos|VeraDanielaCam1|      2019-08-22 09:52:32|            Non-Verified|                      \"\"|        null|   null|                   0|                  24|              0|                  0|          0|https://twitter.c...|https://abs.twimg...|             Not Protected|                 null|\n",
      "|\"1095260750577315...|   moustapha diawara|moustap26096729|      2019-02-12 09:58:06|            Non-Verified|               \"Sérieux\"|        null|   null|                 130|                 212|              5|                  0|        274|https://twitter.c...|https://pbs.twimg...|             Not Protected|  2019-08-15 07:56:19|\n",
      "|\"1164470981856907...|               Kanyo|  Kanyo97724838|      2019-08-22 09:35:08|            Non-Verified|                      \"\"|        null|   null|                   0|                 199|              0|                  0|          0|https://twitter.c...|https://pbs.twimg...|             Not Protected|                 null|\n",
      "|\"1161271861075959...|       DA Vinci vinc|   DAVincivinc1|      2019-08-13 13:42:41|            Non-Verified|    \"ama savage ........|        null|   null|                null|                null|           null|               null|       null|                null|                null|                      null|                 null|\n",
      "|6lack venom music...|                null|           null|                        2|                      23|                       1|           0|      0|https://twitter.c...|https://pbs.twimg...|  Not Protected|2019-08-22 09:54:11|       null|                null|                null|                      null|                 null|\n",
      "+--------------------+--------------------+---------------+-------------------------+------------------------+------------------------+------------+-------+--------------------+--------------------+---------------+-------------------+-----------+--------------------+--------------------+--------------------------+---------------------+\n",
      "only showing top 20 rows\n",
      "\n"
     ]
    }
   ],
   "source": [
    "followers.show()"
   ]
  },
  {
   "cell_type": "code",
   "execution_count": null,
   "metadata": {},
   "outputs": [],
   "source": [
    "followings.show()"
   ]
  },
  {
   "cell_type": "code",
   "execution_count": null,
   "metadata": {},
   "outputs": [],
   "source": [
    "tweets.show()"
   ]
  },
  {
   "cell_type": "code",
   "execution_count": 10,
   "metadata": {},
   "outputs": [
    {
     "name": "stdout",
     "output_type": "stream",
     "text": [
      "+--------------------+--------------------+\n",
      "|       Tweet_Content|            Tweet_ID|\n",
      "+--------------------+--------------------+\n",
      "|\"if you actually ...|\"1164359165516496...|\n",
      "|\"Yes, @cynthialov...|\"1164287143037952...|\n",
      "|\"Technically summ...|\"1164237129666314...|\n",
      "|\"I’m having the P...|\"1164057424703176...|\n",
      "|\"Add a little ✨sh...|\"1163970049050210...|\n",
      "|\"On October 11th,...|\"1163541461234847...|\n",
      "|\"Show me your 🌼F...|\"1162837018402934...|\n",
      "|\"Haven’t heard #S...|\"1162411165860810...|\n",
      "|\"honey every day ...|\"1162107758591692...|\n",
      "|\"added to my cale...|\"1162094625399566...|\n",
      "|\"Is that #smallta...|\"1161735142588575...|\n",
      "|\"♥️🌼 https://t.c...|\"1161733358268768...|\n",
      "|\"Always lovers #M...|\"1161733145735004...|\n",
      "|\"💬💬 https://t.c...|\"1161733003841699...|\n",
      "|\"God spelled back...|\"1161367924914786...|\n",
      "|\"Whether it's #Sm...|\"1161340709514801...|\n",
      "|\"Can’t we all jus...|\"1160456545961857...|\n",
      "|\"💬💬 https://t.c...|\"1159951298063548...|\n",
      "|\"🌼 https://t.co/...|\"1159938738669010...|\n",
      "|\"bts of my beatbo...|\"1159931392152821...|\n",
      "+--------------------+--------------------+\n",
      "only showing top 20 rows\n",
      "\n"
     ]
    }
   ],
   "source": [
    "tweets.select(\"Tweet_Content\", \"Tweet_ID\").show()"
   ]
  },
  {
   "cell_type": "code",
   "execution_count": 11,
   "metadata": {},
   "outputs": [],
   "source": [
    "import pyspark.sql"
   ]
  },
  {
   "cell_type": "code",
   "execution_count": 12,
   "metadata": {},
   "outputs": [],
   "source": [
    "followers.createOrReplaceTempView(\"followers\")"
   ]
  },
  {
   "cell_type": "code",
   "execution_count": 13,
   "metadata": {},
   "outputs": [
    {
     "name": "stdout",
     "output_type": "stream",
     "text": [
      "+---------------+--------------------+------------------------+\n",
      "|       Username|                Name|                     Bio|\n",
      "+---------------+--------------------+------------------------+\n",
      "|   rain81490575|                rain|\"マイペースに紹介します\"|\n",
      "|    ame70728198|                 ame|                      \"\"|\n",
      "|  MoussabacharV|      𝑩𝒐𝒖𝒚𝒆́ 💥|    \"𝐹𝑟𝑜𝑚 𝐶𝘩𝑎?...|\n",
      "|     KerianeMcP|     Kerry McPherson|                      \"\"|\n",
      "|  Joker77718659|               Joker|           \"joker12jo21\"|\n",
      "|      MaluLeon4|         Malu Leon💓|                \"Family\"|\n",
      "|  makai37149898|           mixed_mir|                      \"\"|\n",
      "|  KupiecKlaudia|      Klaudia Kupiec|    \"🌹04.06.17 - my ...|\n",
      "|           null|                null|                    null|\n",
      "|           null|                null|                    null|\n",
      "|           null|                null|                       0|\n",
      "|Kingsto27580963|            Kingston|    \"Am straightforwa...|\n",
      "|        nrshra7|              nrshra|    \"Work hard to bei...|\n",
      "|         cc7369|cesley (CC)☮🖤🐾?...|    \"My hero is.........|\n",
      "|pablochavezper3|pablochavezperez0...|    \"caminar con los ...|\n",
      "|VeraDanielaCam1| Vera Daniela Campos|                      \"\"|\n",
      "|moustap26096729|   moustapha diawara|               \"Sérieux\"|\n",
      "|  Kanyo97724838|               Kanyo|                      \"\"|\n",
      "|   DAVincivinc1|       DA Vinci vinc|    \"ama savage ........|\n",
      "|           null|                null|                       1|\n",
      "+---------------+--------------------+------------------------+\n",
      "\n"
     ]
    }
   ],
   "source": [
    "lf= spark.sql(\"Select Username, Name, Bio from followers limit 20\")\n",
    "lf.show()"
   ]
  },
  {
   "cell_type": "code",
   "execution_count": 14,
   "metadata": {},
   "outputs": [],
   "source": [
    "followings.createOrReplaceTempView(\"followings\")"
   ]
  },
  {
   "cell_type": "code",
   "execution_count": 15,
   "metadata": {},
   "outputs": [
    {
     "name": "stdout",
     "output_type": "stream",
     "text": [
      "+--------------------+--------------------+--------------------+\n",
      "|            Username|                Name|                 Bio|\n",
      "+--------------------+--------------------+--------------------+\n",
      "|       PeteButtigieg|      Pete Buttigieg|\"Running for pres...|\n",
      "|              maddow| Rachel Maddow MSNBC|\"I see political ...|\n",
      "|http://t.co/KtNvf...|    New York, NY USA|             9669573|\n",
      "|             sriramk|     Sriram Krishnan|\"Product @Twitter...|\n",
      "|           RickRubin|          Rick Rubin|  \"music enthusiast\"|\n",
      "|        dubstep4dads|         eric curtin|\"follow my person...|\n",
      "|     AndrewPaulJoyce|          A.P. Joyce|\"Producer @msnbc....|\n",
      "|        jlloydharmon|Jeremiah Lloyd Ha...|             \"🖤Jer\"|\n",
      "|             DojaCat|            Doja Cat|\"inquiry: dojamgm...|\n",
      "|         MaddiePoppe|        Maddie Poppe|\"Season 16 Winner...|\n",
      "|         Emma4Change|       Emma González|\"Change ? in my c...|\n",
      "|         UniofOxford|   Oxford University|\"Official Twitter...|\n",
      "|           JimCarrey|          Jim Carrey|\"The ONLY officia...|\n",
      "|        AmericanIdol|       American Idol|\"#AmericanIdol au...|\n",
      "|     LukeBryanOnline|          Luke Bryan|\"#SunsetRepeatTou...|\n",
      "|     alicewalkerfilm|   Alice Walker Film|\"Watch award winn...|\n",
      "|               Pixar|               Pixar|\"The official Twi...|\n",
      "|                 ava|        Ava DuVernay|\"Mom of 10: When ...|\n",
      "|       GloriaSteinem|      Gloria Steinem|\"Gloria Steinem, ...|\n",
      "|            Pontifex|        Pope Francis|\"Welcome to the o...|\n",
      "+--------------------+--------------------+--------------------+\n",
      "\n"
     ]
    }
   ],
   "source": [
    "lf= spark.sql(\"Select Username, Name, Bio from followings limit 20\")\n",
    "lf.show()"
   ]
  },
  {
   "cell_type": "code",
   "execution_count": 16,
   "metadata": {},
   "outputs": [],
   "source": [
    "tweets.createOrReplaceTempView(\"tweets\")"
   ]
  },
  {
   "cell_type": "code",
   "execution_count": 17,
   "metadata": {},
   "outputs": [
    {
     "data": {
      "text/html": [
       "<table border='1'>\n",
       "<tr><th>Tweet_Id</th><th>Tweet_URL</th><th>Tweet_Posted_Time</th><th>Tweet_Content</th><th>Tweet_Type</th><th>Client</th><th>Retweets_received</th><th>Likes_received</th><th>User_Id</th><th>Name</th><th>Username</th><th>Verified_or_Non-Verified</th><th>Profile_URL</th><th>Protected_or_Not_Protected</th></tr>\n",
       "<tr><td>&quot;1151976518827925...</td><td>https://twitter.c...</td><td>18-07-2019 22:06</td><td>&quot;Proud of my fath...</td><td>Tweet</td><td>Twitter for iPhone</td><td>969</td><td>9694</td><td>&quot;21447363&quot;</td><td>&quot;KATY PERRY&quot;</td><td>katyperry</td><td>Verified</td><td>https://twitter.c...</td><td>Not Protected</td></tr>\n",
       "<tr><td>&quot;1138891136146165...</td><td>https://twitter.c...</td><td>12-06-2019 19:29</td><td>&quot;hi bb’s... do yo...</td><td>Tweet</td><td>Twitter for iPhone</td><td>1825</td><td>9656</td><td>&quot;21447363&quot;</td><td>&quot;KATY PERRY&quot;</td><td>katyperry</td><td>Verified</td><td>https://twitter.c...</td><td>Not Protected</td></tr>\n",
       "<tr><td>&quot;1138976744587825...</td><td>https://twitter.c...</td><td>13-06-2019 01:09</td><td>&quot;look at how f-in...</td><td>Tweet</td><td>Instagram</td><td>923</td><td>9334</td><td>&quot;21447363&quot;</td><td>&quot;KATY PERRY&quot;</td><td>katyperry</td><td>Verified</td><td>https://twitter.c...</td><td>Not Protected</td></tr>\n",
       "<tr><td>&quot;1155507682264145...</td><td>https://twitter.c...</td><td>28-07-2019 15:57</td><td>&quot;♥️ happiness ent...</td><td>Tweet</td><td>Instagram</td><td>917</td><td>8731</td><td>&quot;21447363&quot;</td><td>&quot;KATY PERRY&quot;</td><td>katyperry</td><td>Verified</td><td>https://twitter.c...</td><td>Not Protected</td></tr>\n",
       "<tr><td>&quot;1144416819974770...</td><td>https://twitter.c...</td><td>28-06-2019 01:26</td><td>&quot;https://t.co/Git...</td><td>Tweet</td><td>Twitter for iPhone</td><td>934</td><td>8675</td><td>&quot;21447363&quot;</td><td>&quot;KATY PERRY&quot;</td><td>katyperry</td><td>Verified</td><td>https://twitter.c...</td><td>Not Protected</td></tr>\n",
       "<tr><td>&quot;1158815201262575...</td><td>https://twitter.c...</td><td>06-08-2019 19:00</td><td>&quot;If you want to w...</td><td>Tweet</td><td>Twitter for iPhone</td><td>778</td><td>8647</td><td>&quot;21447363&quot;</td><td>&quot;KATY PERRY&quot;</td><td>katyperry</td><td>Verified</td><td>https://twitter.c...</td><td>Not Protected</td></tr>\n",
       "<tr><td>&quot;1142132730139774...</td><td>https://twitter.c...</td><td>21-06-2019 18:10</td><td>&quot;New season, who ...</td><td>Tweet</td><td>Twitter for iPhone</td><td>1415</td><td>8585</td><td>&quot;21447363&quot;</td><td>&quot;KATY PERRY&quot;</td><td>katyperry</td><td>Verified</td><td>https://twitter.c...</td><td>Not Protected</td></tr>\n",
       "<tr><td>&quot;1140516546223247...</td><td>https://twitter.c...</td><td>17-06-2019 07:08</td><td>&quot;love u every day...</td><td>Tweet</td><td>Instagram</td><td>789</td><td>8458</td><td>&quot;21447363&quot;</td><td>&quot;KATY PERRY&quot;</td><td>katyperry</td><td>Verified</td><td>https://twitter.c...</td><td>Not Protected</td></tr>\n",
       "<tr><td>&quot;1148691214876565...</td><td>https://twitter.c...</td><td>09-07-2019 20:31</td><td>&quot;Shine bright lik...</td><td>Tweet</td><td>Twitter for iPhone</td><td>827</td><td>8422</td><td>&quot;21447363&quot;</td><td>&quot;KATY PERRY&quot;</td><td>katyperry</td><td>Verified</td><td>https://twitter.c...</td><td>Not Protected</td></tr>\n",
       "<tr><td>&quot;1159909761401233...</td><td>https://twitter.c...</td><td>09-08-2019 19:30</td><td>&quot;❤️ https://t.co/...</td><td>Tweet</td><td>Twitter for iPhone</td><td>1234</td><td>8314</td><td>&quot;21447363&quot;</td><td>&quot;KATY PERRY&quot;</td><td>katyperry</td><td>Verified</td><td>https://twitter.c...</td><td>Not Protected</td></tr>\n",
       "<tr><td>&quot;1162837018402934...</td><td>https://twitter.c...</td><td>17-08-2019 21:22</td><td>&quot;Show me your 🌼F...</td><td>Tweet</td><td>Instagram</td><td>1045</td><td>8239</td><td>&quot;21447363&quot;</td><td>&quot;KATY PERRY&quot;</td><td>katyperry</td><td>Verified</td><td>https://twitter.c...</td><td>Not Protected</td></tr>\n",
       "<tr><td>&quot;1159938738669010...</td><td>https://twitter.c...</td><td>09-08-2019 21:25</td><td>&quot;🌼 https://t.co/...</td><td>Tweet</td><td>Twitter for iPhone</td><td>1121</td><td>7791</td><td>&quot;21447363&quot;</td><td>&quot;KATY PERRY&quot;</td><td>katyperry</td><td>Verified</td><td>https://twitter.c...</td><td>Not Protected</td></tr>\n",
       "<tr><td>&quot;1135732143227752...</td><td>https://twitter.c...</td><td>04-06-2019 02:16</td><td>&quot;Lose your self c...</td><td>Tweet</td><td>Instagram</td><td>1139</td><td>7682</td><td>&quot;21447363&quot;</td><td>&quot;KATY PERRY&quot;</td><td>katyperry</td><td>Verified</td><td>https://twitter.c...</td><td>Not Protected</td></tr>\n",
       "<tr><td>&quot;1138241497378115...</td><td>https://twitter.c...</td><td>11-06-2019 00:28</td><td>&quot;Sometimes I moon...</td><td>Tweet</td><td>Twitter for iPhone</td><td>796</td><td>7547</td><td>&quot;21447363&quot;</td><td>&quot;KATY PERRY&quot;</td><td>katyperry</td><td>Verified</td><td>https://twitter.c...</td><td>Not Protected</td></tr>\n",
       "<tr><td>&quot;1146226293861519...</td><td>https://twitter.c...</td><td>03-07-2019 01:16</td><td>&quot;Love 💄 so much ...</td><td>Tweet</td><td>Twitter for iPhone</td><td>781</td><td>7538</td><td>&quot;21447363&quot;</td><td>&quot;KATY PERRY&quot;</td><td>katyperry</td><td>Verified</td><td>https://twitter.c...</td><td>Not Protected</td></tr>\n",
       "<tr><td>&quot;1143264347310833...</td><td>https://twitter.c...</td><td>24-06-2019 21:07</td><td>&quot;Check ur email! ...</td><td>Tweet</td><td>Twitter for iPhone</td><td>972</td><td>7199</td><td>&quot;21447363&quot;</td><td>&quot;KATY PERRY&quot;</td><td>katyperry</td><td>Verified</td><td>https://twitter.c...</td><td>Not Protected</td></tr>\n",
       "<tr><td>&quot;1144415188709281...</td><td>https://twitter.c...</td><td>28-06-2019 01:20</td><td>&quot;three snaps in a...</td><td>Tweet</td><td>Twitter for iPhone</td><td>917</td><td>7177</td><td>&quot;21447363&quot;</td><td>&quot;KATY PERRY&quot;</td><td>katyperry</td><td>Verified</td><td>https://twitter.c...</td><td>Not Protected</td></tr>\n",
       "<tr><td>&quot;1161340709514801...</td><td>https://twitter.c...</td><td>13-08-2019 18:16</td><td>&quot;Whether it&#x27;s #Sm...</td><td>Tweet</td><td>Twitter for iPhone</td><td>789</td><td>7143</td><td>&quot;21447363&quot;</td><td>&quot;KATY PERRY&quot;</td><td>katyperry</td><td>Verified</td><td>https://twitter.c...</td><td>Not Protected</td></tr>\n",
       "<tr><td>&quot;1141162214046556...</td><td>https://twitter.c...</td><td>19-06-2019 01:54</td><td>&quot;may the 18th be ...</td><td>Tweet</td><td>Instagram</td><td>745</td><td>7069</td><td>&quot;21447363&quot;</td><td>&quot;KATY PERRY&quot;</td><td>katyperry</td><td>Verified</td><td>https://twitter.c...</td><td>Not Protected</td></tr>\n",
       "<tr><td>&quot;1134615729242804...</td><td>https://twitter.c...</td><td>01-06-2019 00:20</td><td>&quot;bus stop to free...</td><td>Tweet</td><td>Instagram</td><td>1022</td><td>6994</td><td>&quot;21447363&quot;</td><td>&quot;KATY PERRY&quot;</td><td>katyperry</td><td>Verified</td><td>https://twitter.c...</td><td>Not Protected</td></tr>\n",
       "</table>\n",
       "only showing top 20 rows\n"
      ],
      "text/plain": [
       "+--------------------+--------------------+-----------------+--------------------+----------+------------------+-----------------+--------------+----------+------------+---------+------------------------+--------------------+--------------------------+\n",
       "|            Tweet_Id|           Tweet_URL|Tweet_Posted_Time|       Tweet_Content|Tweet_Type|            Client|Retweets_received|Likes_received|   User_Id|        Name| Username|Verified_or_Non-Verified|         Profile_URL|Protected_or_Not_Protected|\n",
       "+--------------------+--------------------+-----------------+--------------------+----------+------------------+-----------------+--------------+----------+------------+---------+------------------------+--------------------+--------------------------+\n",
       "|\"1151976518827925...|https://twitter.c...| 18-07-2019 22:06|\"Proud of my fath...|     Tweet|Twitter for iPhone|              969|          9694|\"21447363\"|\"KATY PERRY\"|katyperry|                Verified|https://twitter.c...|             Not Protected|\n",
       "|\"1138891136146165...|https://twitter.c...| 12-06-2019 19:29|\"hi bb’s... do yo...|     Tweet|Twitter for iPhone|             1825|          9656|\"21447363\"|\"KATY PERRY\"|katyperry|                Verified|https://twitter.c...|             Not Protected|\n",
       "|\"1138976744587825...|https://twitter.c...| 13-06-2019 01:09|\"look at how f-in...|     Tweet|         Instagram|              923|          9334|\"21447363\"|\"KATY PERRY\"|katyperry|                Verified|https://twitter.c...|             Not Protected|\n",
       "|\"1155507682264145...|https://twitter.c...| 28-07-2019 15:57|\"♥️ happiness ent...|     Tweet|         Instagram|              917|          8731|\"21447363\"|\"KATY PERRY\"|katyperry|                Verified|https://twitter.c...|             Not Protected|\n",
       "|\"1144416819974770...|https://twitter.c...| 28-06-2019 01:26|\"https://t.co/Git...|     Tweet|Twitter for iPhone|              934|          8675|\"21447363\"|\"KATY PERRY\"|katyperry|                Verified|https://twitter.c...|             Not Protected|\n",
       "|\"1158815201262575...|https://twitter.c...| 06-08-2019 19:00|\"If you want to w...|     Tweet|Twitter for iPhone|              778|          8647|\"21447363\"|\"KATY PERRY\"|katyperry|                Verified|https://twitter.c...|             Not Protected|\n",
       "|\"1142132730139774...|https://twitter.c...| 21-06-2019 18:10|\"New season, who ...|     Tweet|Twitter for iPhone|             1415|          8585|\"21447363\"|\"KATY PERRY\"|katyperry|                Verified|https://twitter.c...|             Not Protected|\n",
       "|\"1140516546223247...|https://twitter.c...| 17-06-2019 07:08|\"love u every day...|     Tweet|         Instagram|              789|          8458|\"21447363\"|\"KATY PERRY\"|katyperry|                Verified|https://twitter.c...|             Not Protected|\n",
       "|\"1148691214876565...|https://twitter.c...| 09-07-2019 20:31|\"Shine bright lik...|     Tweet|Twitter for iPhone|              827|          8422|\"21447363\"|\"KATY PERRY\"|katyperry|                Verified|https://twitter.c...|             Not Protected|\n",
       "|\"1159909761401233...|https://twitter.c...| 09-08-2019 19:30|\"❤️ https://t.co/...|     Tweet|Twitter for iPhone|             1234|          8314|\"21447363\"|\"KATY PERRY\"|katyperry|                Verified|https://twitter.c...|             Not Protected|\n",
       "|\"1162837018402934...|https://twitter.c...| 17-08-2019 21:22|\"Show me your 🌼F...|     Tweet|         Instagram|             1045|          8239|\"21447363\"|\"KATY PERRY\"|katyperry|                Verified|https://twitter.c...|             Not Protected|\n",
       "|\"1159938738669010...|https://twitter.c...| 09-08-2019 21:25|\"🌼 https://t.co/...|     Tweet|Twitter for iPhone|             1121|          7791|\"21447363\"|\"KATY PERRY\"|katyperry|                Verified|https://twitter.c...|             Not Protected|\n",
       "|\"1135732143227752...|https://twitter.c...| 04-06-2019 02:16|\"Lose your self c...|     Tweet|         Instagram|             1139|          7682|\"21447363\"|\"KATY PERRY\"|katyperry|                Verified|https://twitter.c...|             Not Protected|\n",
       "|\"1138241497378115...|https://twitter.c...| 11-06-2019 00:28|\"Sometimes I moon...|     Tweet|Twitter for iPhone|              796|          7547|\"21447363\"|\"KATY PERRY\"|katyperry|                Verified|https://twitter.c...|             Not Protected|\n",
       "|\"1146226293861519...|https://twitter.c...| 03-07-2019 01:16|\"Love 💄 so much ...|     Tweet|Twitter for iPhone|              781|          7538|\"21447363\"|\"KATY PERRY\"|katyperry|                Verified|https://twitter.c...|             Not Protected|\n",
       "|\"1143264347310833...|https://twitter.c...| 24-06-2019 21:07|\"Check ur email! ...|     Tweet|Twitter for iPhone|              972|          7199|\"21447363\"|\"KATY PERRY\"|katyperry|                Verified|https://twitter.c...|             Not Protected|\n",
       "|\"1144415188709281...|https://twitter.c...| 28-06-2019 01:20|\"three snaps in a...|     Tweet|Twitter for iPhone|              917|          7177|\"21447363\"|\"KATY PERRY\"|katyperry|                Verified|https://twitter.c...|             Not Protected|\n",
       "|\"1161340709514801...|https://twitter.c...| 13-08-2019 18:16|\"Whether it's #Sm...|     Tweet|Twitter for iPhone|              789|          7143|\"21447363\"|\"KATY PERRY\"|katyperry|                Verified|https://twitter.c...|             Not Protected|\n",
       "|\"1141162214046556...|https://twitter.c...| 19-06-2019 01:54|\"may the 18th be ...|     Tweet|         Instagram|              745|          7069|\"21447363\"|\"KATY PERRY\"|katyperry|                Verified|https://twitter.c...|             Not Protected|\n",
       "|\"1134615729242804...|https://twitter.c...| 01-06-2019 00:20|\"bus stop to free...|     Tweet|         Instagram|             1022|          6994|\"21447363\"|\"KATY PERRY\"|katyperry|                Verified|https://twitter.c...|             Not Protected|\n",
       "+--------------------+--------------------+-----------------+--------------------+----------+------------------+-----------------+--------------+----------+------------+---------+------------------------+--------------------+--------------------------+\n",
       "only showing top 20 rows"
      ]
     },
     "execution_count": 17,
     "metadata": {},
     "output_type": "execute_result"
    }
   ],
   "source": [
    "spark.sql(\"select * from tweets order by Likes_received desc\")"
   ]
  },
  {
   "cell_type": "code",
   "execution_count": 18,
   "metadata": {},
   "outputs": [
    {
     "name": "stdout",
     "output_type": "stream",
     "text": [
      "+--------------------+--------------+\n",
      "|       Tweet_Content|Likes_received|\n",
      "+--------------------+--------------+\n",
      "|\"KORA-grats on an...|          null|\n",
      "|               Tweet|    \"21447363\"|\n",
      "|\"i am a fearless,...|         10635|\n",
      "|\". @bastilledan m...|         10719|\n",
      "|\"God spelled back...|         10762|\n",
      "|\"☝🏼 https://t.co...|         11384|\n",
      "|\"💬💬 https://t.c...|         11478|\n",
      "|\"As my favorite @...|         11479|\n",
      "|\"Find your first ...|         11626|\n",
      "|\"#FBF to the time...|         12005|\n",
      "|\"💬💬 https://t.c...|         12369|\n",
      "|\"pls give them a ...|         12480|\n",
      "|\"Katy Perry's new...|         12520|\n",
      "|\"🤘🏼@youtubemusi...|         12875|\n",
      "|\"the dark side of...|         13458|\n",
      "|\"if you actually ...|         13782|\n",
      "|\"meet me on IG im...|         13827|\n",
      "|\"Went to the drug...|         14324|\n",
      "|\"🗣 https://t.co/...|         14584|\n",
      "|\"Can’t we all jus...|        146578|\n",
      "+--------------------+--------------+\n",
      "only showing top 20 rows\n",
      "\n"
     ]
    }
   ],
   "source": [
    "tweets.select(\"Tweet_Content\",\"Likes_received\").sort([\"Likes_received\"]).show()"
   ]
  },
  {
   "cell_type": "code",
   "execution_count": 19,
   "metadata": {},
   "outputs": [
    {
     "name": "stdout",
     "output_type": "stream",
     "text": [
      "+--------------------+--------------+\n",
      "|       Tweet_Content|Likes_received|\n",
      "+--------------------+--------------+\n",
      "|\"Proud of my fath...|          9694|\n",
      "|\"hi bb’s... do yo...|          9656|\n",
      "|\"look at how f-in...|          9334|\n",
      "|\"♥️ happiness ent...|          8731|\n",
      "|\"https://t.co/Git...|          8675|\n",
      "|\"If you want to w...|          8647|\n",
      "|\"New season, who ...|          8585|\n",
      "|\"love u every day...|          8458|\n",
      "|\"Shine bright lik...|          8422|\n",
      "|\"❤️ https://t.co/...|          8314|\n",
      "|\"Show me your 🌼F...|          8239|\n",
      "|\"🌼 https://t.co/...|          7791|\n",
      "|\"Lose your self c...|          7682|\n",
      "|\"Sometimes I moon...|          7547|\n",
      "|\"Love 💄 so much ...|          7538|\n",
      "|\"Check ur email! ...|          7199|\n",
      "|\"three snaps in a...|          7177|\n",
      "|\"Whether it's #Sm...|          7143|\n",
      "|\"may the 18th be ...|          7069|\n",
      "|\"bus stop to free...|          6994|\n",
      "+--------------------+--------------+\n",
      "\n"
     ]
    }
   ],
   "source": [
    "lf= spark.sql(\"Select Tweet_Content, Likes_received from tweets order by Likes_received DESC limit 20\")\n",
    "lf.show()"
   ]
  },
  {
   "cell_type": "code",
   "execution_count": null,
   "metadata": {},
   "outputs": [],
   "source": []
  }
 ],
 "metadata": {
  "kernelspec": {
   "display_name": "Python 3",
   "language": "python",
   "name": "python3"
  }
 },
 "nbformat": 4,
 "nbformat_minor": 2
}
