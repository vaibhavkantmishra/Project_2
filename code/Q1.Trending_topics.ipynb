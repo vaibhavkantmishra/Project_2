{
 "cells": [
  {
   "cell_type": "code",
   "execution_count": 1,
   "metadata": {},
   "outputs": [],
   "source": [
    "import tweepy as tw\n",
    "import os\n",
    "import json\n",
    "import sys"
   ]
  },
  {
   "cell_type": "code",
   "execution_count": 2,
   "metadata": {},
   "outputs": [],
   "source": [
    "# API Keys and Tokens\n",
    "consumer_key = 'H8J4lTPwHny8qt41OOxLFwNHH'\n",
    "consumer_secret = 'KNTd6Kida34CBydCJYGm5leKBChBN86sTlMpkFZ6bkfkWAjaYb'\n",
    "access_token = '3105826550-F4YMOB6ZljoceFpW2WTJctwxAFH757cEy6QwNXD'\n",
    "access_secret = 'JJaTqeVLPqma5OtYsDwjTldEP8S8qqiRz4VcTmXGf1dwZ'\n"
   ]
  },
  {
   "cell_type": "code",
   "execution_count": 3,
   "metadata": {},
   "outputs": [],
   "source": [
    "# Authorization and Authentication\n",
    "auth = tw.OAuthHandler(consumer_key, consumer_secret)\n",
    "auth.set_access_token(access_token, access_secret)\n",
    "api = tw.API(auth)"
   ]
  },
  {
   "cell_type": "code",
   "execution_count": 4,
   "metadata": {},
   "outputs": [],
   "source": [
    "# WOEID of delhi, india\n",
    "woeid = 20070458"
   ]
  },
  {
   "cell_type": "code",
   "execution_count": 5,
   "metadata": {},
   "outputs": [],
   "source": [
    "# fetching the trends\n",
    "Trends = api.trends_place(id = woeid)"
   ]
  },
  {
   "cell_type": "code",
   "execution_count": 6,
   "metadata": {},
   "outputs": [
    {
     "name": "stdout",
     "output_type": "stream",
     "text": [
      "{'trends': [{'name': '#AtalBihariVajpayee', 'url': 'http://twitter.com/search?q=%23AtalBihariVajpayee', 'promoted_content': None, 'query': '%23AtalBihariVajpayee', 'tweet_volume': None}, {'name': '#MondayMotivation', 'url': 'http://twitter.com/search?q=%23MondayMotivation', 'promoted_content': None, 'query': '%23MondayMotivation', 'tweet_volume': 25825}, {'name': '#अटल_बिहारी_वाजपेयी', 'url': 'http://twitter.com/search?q=%23%E0%A4%85%E0%A4%9F%E0%A4%B2_%E0%A4%AC%E0%A4%BF%E0%A4%B9%E0%A4%BE%E0%A4%B0%E0%A5%80_%E0%A4%B5%E0%A4%BE%E0%A4%9C%E0%A4%AA%E0%A5%87%E0%A4%AF%E0%A5%80', 'promoted_content': None, 'query': '%23%E0%A4%85%E0%A4%9F%E0%A4%B2_%E0%A4%AC%E0%A4%BF%E0%A4%B9%E0%A4%BE%E0%A4%B0%E0%A5%80_%E0%A4%B5%E0%A4%BE%E0%A4%9C%E0%A4%AA%E0%A5%87%E0%A4%AF%E0%A5%80', 'tweet_volume': None}, {'name': '#किसान_विरोधी_भाजपा', 'url': 'http://twitter.com/search?q=%23%E0%A4%95%E0%A4%BF%E0%A4%B8%E0%A4%BE%E0%A4%A8_%E0%A4%B5%E0%A4%BF%E0%A4%B0%E0%A5%8B%E0%A4%A7%E0%A5%80_%E0%A4%AD%E0%A4%BE%E0%A4%9C%E0%A4%AA%E0%A4%BE', 'promoted_content': None, 'query': '%23%E0%A4%95%E0%A4%BF%E0%A4%B8%E0%A4%BE%E0%A4%A8_%E0%A4%B5%E0%A4%BF%E0%A4%B0%E0%A5%8B%E0%A4%A7%E0%A5%80_%E0%A4%AD%E0%A4%BE%E0%A4%9C%E0%A4%AA%E0%A4%BE', 'tweet_volume': 51047}, {'name': '#mondaythoughts', 'url': 'http://twitter.com/search?q=%23mondaythoughts', 'promoted_content': None, 'query': '%23mondaythoughts', 'tweet_volume': None}, {'name': 'भारत रत्न', 'url': 'http://twitter.com/search?q=%22%E0%A4%AD%E0%A4%BE%E0%A4%B0%E0%A4%A4+%E0%A4%B0%E0%A4%A4%E0%A5%8D%E0%A4%A8%22', 'promoted_content': None, 'query': '%22%E0%A4%AD%E0%A4%BE%E0%A4%B0%E0%A4%A4+%E0%A4%B0%E0%A4%A4%E0%A5%8D%E0%A4%A8%22', 'tweet_volume': 17914}, {'name': 'Taliban', 'url': 'http://twitter.com/search?q=Taliban', 'promoted_content': None, 'query': 'Taliban', 'tweet_volume': 2128016}, {'name': 'भारतीय राजनीति', 'url': 'http://twitter.com/search?q=%22%E0%A4%AD%E0%A4%BE%E0%A4%B0%E0%A4%A4%E0%A5%80%E0%A4%AF+%E0%A4%B0%E0%A4%BE%E0%A4%9C%E0%A4%A8%E0%A5%80%E0%A4%A4%E0%A4%BF%22', 'promoted_content': None, 'query': '%22%E0%A4%AD%E0%A4%BE%E0%A4%B0%E0%A4%A4%E0%A5%80%E0%A4%AF+%E0%A4%B0%E0%A4%BE%E0%A4%9C%E0%A4%A8%E0%A5%80%E0%A4%A4%E0%A4%BF%22', 'tweet_volume': None}, {'name': 'Mission Justice For SSR', 'url': 'http://twitter.com/search?q=%22Mission+Justice+For+SSR%22', 'promoted_content': None, 'query': '%22Mission+Justice+For+SSR%22', 'tweet_volume': 15197}, {'name': 'Punyatithi', 'url': 'http://twitter.com/search?q=Punyatithi', 'promoted_content': None, 'query': 'Punyatithi', 'tweet_volume': None}, {'name': 'Meditation', 'url': 'http://twitter.com/search?q=Meditation', 'promoted_content': None, 'query': 'Meditation', 'tweet_volume': 28979}, {'name': 'Prime Minister of India', 'url': 'http://twitter.com/search?q=%22Prime+Minister+of+India%22', 'promoted_content': None, 'query': '%22Prime+Minister+of+India%22', 'tweet_volume': 10294}, {'name': 'America', 'url': 'http://twitter.com/search?q=America', 'promoted_content': None, 'query': 'America', 'tweet_volume': 606851}, {'name': 'Islamic', 'url': 'http://twitter.com/search?q=Islamic', 'promoted_content': None, 'query': 'Islamic', 'tweet_volume': 120991}, {'name': 'Sharia', 'url': 'http://twitter.com/search?q=Sharia', 'promoted_content': None, 'query': 'Sharia', 'tweet_volume': 55449}, {'name': 'Biden', 'url': 'http://twitter.com/search?q=Biden', 'promoted_content': None, 'query': 'Biden', 'tweet_volume': 1696419}, {'name': 'Trump', 'url': 'http://twitter.com/search?q=Trump', 'promoted_content': None, 'query': 'Trump', 'tweet_volume': 1313850}, {'name': 'West Indies', 'url': 'http://twitter.com/search?q=%22West+Indies%22', 'promoted_content': None, 'query': '%22West+Indies%22', 'tweet_volume': None}, {'name': 'Russia', 'url': 'http://twitter.com/search?q=Russia', 'promoted_content': None, 'query': 'Russia', 'tweet_volume': 108804}, {'name': 'Iraq', 'url': 'http://twitter.com/search?q=Iraq', 'promoted_content': None, 'query': 'Iraq', 'tweet_volume': 113140}, {'name': 'The US', 'url': 'http://twitter.com/search?q=%22The+US%22', 'promoted_content': None, 'query': '%22The+US%22', 'tweet_volume': 1179314}, {'name': 'United Nations', 'url': 'http://twitter.com/search?q=%22United+Nations%22', 'promoted_content': None, 'query': '%22United+Nations%22', 'tweet_volume': 13039}, {'name': 'Vietnam', 'url': 'http://twitter.com/search?q=Vietnam', 'promoted_content': None, 'query': 'Vietnam', 'tweet_volume': 152021}, {'name': 'NATO', 'url': 'http://twitter.com/search?q=NATO', 'promoted_content': None, 'query': 'NATO', 'tweet_volume': 100845}, {'name': 'Syria', 'url': 'http://twitter.com/search?q=Syria', 'promoted_content': None, 'query': 'Syria', 'tweet_volume': 51505}, {'name': '#NavrozMubarak', 'url': 'http://twitter.com/search?q=%23NavrozMubarak', 'promoted_content': None, 'query': '%23NavrozMubarak', 'tweet_volume': None}, {'name': '#KabulHasFallen', 'url': 'http://twitter.com/search?q=%23KabulHasFallen', 'promoted_content': None, 'query': '%23KabulHasFallen', 'tweet_volume': 15230}, {'name': '#Afghanistan', 'url': 'http://twitter.com/search?q=%23Afghanistan', 'promoted_content': None, 'query': '%23Afghanistan', 'tweet_volume': 735422}, {'name': '#HappyBirthdayArvindKejriwal', 'url': 'http://twitter.com/search?q=%23HappyBirthdayArvindKejriwal', 'promoted_content': None, 'query': '%23HappyBirthdayArvindKejriwal', 'tweet_volume': None}, {'name': '#MondayMorning', 'url': 'http://twitter.com/search?q=%23MondayMorning', 'promoted_content': None, 'query': '%23MondayMorning', 'tweet_volume': None}, {'name': '#ParsiNewYear', 'url': 'http://twitter.com/search?q=%23ParsiNewYear', 'promoted_content': None, 'query': '%23ParsiNewYear', 'tweet_volume': None}, {'name': '#HappyBirthdayAK', 'url': 'http://twitter.com/search?q=%23HappyBirthdayAK', 'promoted_content': None, 'query': '%23HappyBirthdayAK', 'tweet_volume': None}, {'name': '#Mondayvibes', 'url': 'http://twitter.com/search?q=%23Mondayvibes', 'promoted_content': None, 'query': '%23Mondayvibes', 'tweet_volume': None}, {'name': '#JaganannaVidyaKanuka', 'url': 'http://twitter.com/search?q=%23JaganannaVidyaKanuka', 'promoted_content': None, 'query': '%23JaganannaVidyaKanuka', 'tweet_volume': 11800}, {'name': '#GreatCalcuttaKillingContinued', 'url': 'http://twitter.com/search?q=%23GreatCalcuttaKillingContinued', 'promoted_content': None, 'query': '%23GreatCalcuttaKillingContinued', 'tweet_volume': None}, {'name': '#BharatRatna', 'url': 'http://twitter.com/search?q=%23BharatRatna', 'promoted_content': None, 'query': '%23BharatRatna', 'tweet_volume': None}, {'name': '#OBC_की_जातिगत_गणना_हो', 'url': 'http://twitter.com/search?q=%23OBC_%E0%A4%95%E0%A5%80_%E0%A4%9C%E0%A4%BE%E0%A4%A4%E0%A4%BF%E0%A4%97%E0%A4%A4_%E0%A4%97%E0%A4%A3%E0%A4%A8%E0%A4%BE_%E0%A4%B9%E0%A5%8B', 'promoted_content': None, 'query': '%23OBC_%E0%A4%95%E0%A5%80_%E0%A4%9C%E0%A4%BE%E0%A4%A4%E0%A4%BF%E0%A4%97%E0%A4%A4_%E0%A4%97%E0%A4%A3%E0%A4%A8%E0%A4%BE_%E0%A4%B9%E0%A5%8B', 'tweet_volume': None}, {'name': '#ManabadiNaduNedu', 'url': 'http://twitter.com/search?q=%23ManabadiNaduNedu', 'promoted_content': None, 'query': '%23ManabadiNaduNedu', 'tweet_volume': 12298}, {'name': '#GodMorningMonday', 'url': 'http://twitter.com/search?q=%23GodMorningMonday', 'promoted_content': None, 'query': '%23GodMorningMonday', 'tweet_volume': 17077}, {'name': '#पिनान_चिमरावली_रोड़_बने', 'url': 'http://twitter.com/search?q=%23%E0%A4%AA%E0%A4%BF%E0%A4%A8%E0%A4%BE%E0%A4%A8_%E0%A4%9A%E0%A4%BF%E0%A4%AE%E0%A4%B0%E0%A4%BE%E0%A4%B5%E0%A4%B2%E0%A5%80_%E0%A4%B0%E0%A5%8B%E0%A4%A1%E0%A4%BC_%E0%A4%AC%E0%A4%A8%E0%A5%87', 'promoted_content': None, 'query': '%23%E0%A4%AA%E0%A4%BF%E0%A4%A8%E0%A4%BE%E0%A4%A8_%E0%A4%9A%E0%A4%BF%E0%A4%AE%E0%A4%B0%E0%A4%BE%E0%A4%B5%E0%A4%B2%E0%A5%80_%E0%A4%B0%E0%A5%8B%E0%A4%A1%E0%A4%BC_%E0%A4%AC%E0%A4%A8%E0%A5%87', 'tweet_volume': None}, {'name': '#पुण्यतिथि', 'url': 'http://twitter.com/search?q=%23%E0%A4%AA%E0%A5%81%E0%A4%A3%E0%A5%8D%E0%A4%AF%E0%A4%A4%E0%A4%BF%E0%A4%A5%E0%A4%BF', 'promoted_content': None, 'query': '%23%E0%A4%AA%E0%A5%81%E0%A4%A3%E0%A5%8D%E0%A4%AF%E0%A4%A4%E0%A4%BF%E0%A4%A5%E0%A4%BF', 'tweet_volume': None}, {'name': '#JanAshirwadYatra', 'url': 'http://twitter.com/search?q=%23JanAshirwadYatra', 'promoted_content': None, 'query': '%23JanAshirwadYatra', 'tweet_volume': None}, {'name': '#PawandeepRajan', 'url': 'http://twitter.com/search?q=%23PawandeepRajan', 'promoted_content': None, 'query': '%23PawandeepRajan', 'tweet_volume': None}, {'name': '#अफ़ग़ानिस्तान', 'url': 'http://twitter.com/search?q=%23%E0%A4%85%E0%A4%AB%E0%A4%BC%E0%A4%97%E0%A4%BC%E0%A4%BE%E0%A4%A8%E0%A4%BF%E0%A4%B8%E0%A5%8D%E0%A4%A4%E0%A4%BE%E0%A4%A8', 'promoted_content': None, 'query': '%23%E0%A4%85%E0%A4%AB%E0%A4%BC%E0%A4%97%E0%A4%BC%E0%A4%BE%E0%A4%A8%E0%A4%BF%E0%A4%B8%E0%A5%8D%E0%A4%A4%E0%A4%BE%E0%A4%A8', 'tweet_volume': 10847}, {'name': '#WIvPAK', 'url': 'http://twitter.com/search?q=%23WIvPAK', 'promoted_content': None, 'query': '%23WIvPAK', 'tweet_volume': 18368}, {'name': '#तालिबान', 'url': 'http://twitter.com/search?q=%23%E0%A4%A4%E0%A4%BE%E0%A4%B2%E0%A4%BF%E0%A4%AC%E0%A4%BE%E0%A4%A8', 'promoted_content': None, 'query': '%23%E0%A4%A4%E0%A4%BE%E0%A4%B2%E0%A4%BF%E0%A4%AC%E0%A4%BE%E0%A4%A8', 'tweet_volume': None}, {'name': '#IndianIdol2021', 'url': 'http://twitter.com/search?q=%23IndianIdol2021', 'promoted_content': None, 'query': '%23IndianIdol2021', 'tweet_volume': None}], 'as_of': '2021-08-16T04:26:59Z', 'created_at': '2021-08-11T04:56:01Z', 'locations': [{'name': 'Delhi', 'woeid': 20070458}]}\n"
     ]
    }
   ],
   "source": [
    "for value in Trends:\n",
    "     print(value)"
   ]
  },
  {
   "cell_type": "code",
   "execution_count": 12,
   "metadata": {},
   "outputs": [
    {
     "data": {
      "text/html": [
       "\n",
       "            <div>\n",
       "                <p><b>SparkSession - hive</b></p>\n",
       "                \n",
       "        <div>\n",
       "            <p><b>SparkContext</b></p>\n",
       "\n",
       "            <p><a href=\"http://DESKTOP-RGOI8RA:4041\">Spark UI</a></p>\n",
       "\n",
       "            <dl>\n",
       "              <dt>Version</dt>\n",
       "                <dd><code>v3.1.2</code></dd>\n",
       "              <dt>Master</dt>\n",
       "                <dd><code>local[2]</code></dd>\n",
       "              <dt>AppName</dt>\n",
       "                <dd><code>PySparkShell</code></dd>\n",
       "            </dl>\n",
       "        </div>\n",
       "        \n",
       "            </div>\n",
       "        "
      ],
      "text/plain": [
       "<pyspark.sql.session.SparkSession at 0x191c5438ca0>"
      ]
     },
     "execution_count": 12,
     "metadata": {},
     "output_type": "execute_result"
    }
   ],
   "source": [
    "import pyspark\n",
    "from pyspark import SparkContext\n",
    "sc = SparkContext.getOrCreate();\n",
    "import findspark\n",
    "findspark.init()\n",
    "from pyspark.sql import SparkSession\n",
    "spark = SparkSession.builder.master(\"local[*]\").getOrCreate()\n",
    "spark.conf.set(\"spark.sql.repl.eagerEval.enabled\", True) # Property used to format output tables better\n",
    "spark\n"
   ]
  },
  {
   "cell_type": "code",
   "execution_count": 13,
   "metadata": {},
   "outputs": [],
   "source": [
    "#sc.stop()"
   ]
  },
  {
   "cell_type": "code",
   "execution_count": 14,
   "metadata": {},
   "outputs": [],
   "source": [
    "for value in Trends:\n",
    "    rdd = spark.sparkContext.parallelize(value['trends'])\n",
    "Trend_with_hashtag=rdd.toDF(sampleRatio=0.01)"
   ]
  },
  {
   "cell_type": "code",
   "execution_count": 15,
   "metadata": {},
   "outputs": [
    {
     "name": "stdout",
     "output_type": "stream",
     "text": [
      "+--------------------+------------+\n",
      "|                name|tweet_volume|\n",
      "+--------------------+------------+\n",
      "| #AtalBihariVajpayee|        null|\n",
      "|   #MondayMotivation|       25825|\n",
      "| #अटल_बिहारी_वाजपेयी|        null|\n",
      "| #किसान_विरोधी_भाजपा|       51047|\n",
      "|     #mondaythoughts|        null|\n",
      "|           भारत रत्न|       17914|\n",
      "|             Taliban|     2128016|\n",
      "|      भारतीय राजनीति|        null|\n",
      "|Mission Justice F...|       15197|\n",
      "|          Punyatithi|        null|\n",
      "|          Meditation|       28979|\n",
      "|Prime Minister of...|       10294|\n",
      "|             America|      606851|\n",
      "|             Islamic|      120991|\n",
      "|              Sharia|       55449|\n",
      "|               Biden|     1696419|\n",
      "|               Trump|     1313850|\n",
      "|         West Indies|        null|\n",
      "|              Russia|      108804|\n",
      "|                Iraq|      113140|\n",
      "|              The US|     1179314|\n",
      "|      United Nations|       13039|\n",
      "|             Vietnam|      152021|\n",
      "|                NATO|      100845|\n",
      "|               Syria|       51505|\n",
      "|      #NavrozMubarak|        null|\n",
      "|     #KabulHasFallen|       15230|\n",
      "|        #Afghanistan|      735422|\n",
      "|#HappyBirthdayArv...|        null|\n",
      "|      #MondayMorning|        null|\n",
      "|       #ParsiNewYear|        null|\n",
      "|    #HappyBirthdayAK|        null|\n",
      "|        #Mondayvibes|        null|\n",
      "|#JaganannaVidyaKa...|       11800|\n",
      "|#GreatCalcuttaKil...|        null|\n",
      "|        #BharatRatna|        null|\n",
      "|#OBC_की_जातिगत_गण...|        null|\n",
      "|   #ManabadiNaduNedu|       12298|\n",
      "|   #GodMorningMonday|       17077|\n",
      "|#पिनान_चिमरावली_र...|        null|\n",
      "|          #पुण्यतिथि|        null|\n",
      "|   #JanAshirwadYatra|        null|\n",
      "|     #PawandeepRajan|        null|\n",
      "|      #अफ़ग़ानिस्तान|       10847|\n",
      "|             #WIvPAK|       18368|\n",
      "|            #तालिबान|        null|\n",
      "|     #IndianIdol2021|        null|\n",
      "+--------------------+------------+\n",
      "\n"
     ]
    }
   ],
   "source": [
    "Trend_with_hashtag.createOrReplaceTempView(\"Trend\")\n",
    "TD=spark.sql(\"select name, tweet_volume from Trend\")\n",
    "TD.show(50)"
   ]
  },
  {
   "cell_type": "code",
   "execution_count": 20,
   "metadata": {},
   "outputs": [
    {
     "name": "stdout",
     "output_type": "stream",
     "text": [
      "{'trends': [{'name': 'भारत रत्न', 'url': 'http://twitter.com/search?q=%22%E0%A4%AD%E0%A4%BE%E0%A4%B0%E0%A4%A4+%E0%A4%B0%E0%A4%A4%E0%A5%8D%E0%A4%A8%22', 'promoted_content': None, 'query': '%22%E0%A4%AD%E0%A4%BE%E0%A4%B0%E0%A4%A4+%E0%A4%B0%E0%A4%A4%E0%A5%8D%E0%A4%A8%22', 'tweet_volume': 18191}, {'name': 'Taliban', 'url': 'http://twitter.com/search?q=Taliban', 'promoted_content': None, 'query': 'Taliban', 'tweet_volume': 2837069}, {'name': 'भारतीय राजनीति', 'url': 'http://twitter.com/search?q=%22%E0%A4%AD%E0%A4%BE%E0%A4%B0%E0%A4%A4%E0%A5%80%E0%A4%AF+%E0%A4%B0%E0%A4%BE%E0%A4%9C%E0%A4%A8%E0%A5%80%E0%A4%A4%E0%A4%BF%22', 'promoted_content': None, 'query': '%22%E0%A4%AD%E0%A4%BE%E0%A4%B0%E0%A4%A4%E0%A5%80%E0%A4%AF+%E0%A4%B0%E0%A4%BE%E0%A4%9C%E0%A4%A8%E0%A5%80%E0%A4%A4%E0%A4%BF%22', 'tweet_volume': None}, {'name': 'Mission Justice For SSR', 'url': 'http://twitter.com/search?q=%22Mission+Justice+For+SSR%22', 'promoted_content': None, 'query': '%22Mission+Justice+For+SSR%22', 'tweet_volume': 15836}, {'name': 'Punya Tithi', 'url': 'http://twitter.com/search?q=%22Punya+Tithi%22', 'promoted_content': None, 'query': '%22Punya+Tithi%22', 'tweet_volume': None}, {'name': 'Meditation', 'url': 'http://twitter.com/search?q=Meditation', 'promoted_content': None, 'query': 'Meditation', 'tweet_volume': 29046}, {'name': 'America', 'url': 'http://twitter.com/search?q=America', 'promoted_content': None, 'query': 'America', 'tweet_volume': 607761}, {'name': 'Prime Minister of India', 'url': 'http://twitter.com/search?q=%22Prime+Minister+of+India%22', 'promoted_content': None, 'query': '%22Prime+Minister+of+India%22', 'tweet_volume': 10318}, {'name': 'Islamic', 'url': 'http://twitter.com/search?q=Islamic', 'promoted_content': None, 'query': 'Islamic', 'tweet_volume': 121164}, {'name': 'Sharia', 'url': 'http://twitter.com/search?q=Sharia', 'promoted_content': None, 'query': 'Sharia', 'tweet_volume': 55562}, {'name': 'Trump', 'url': 'http://twitter.com/search?q=Trump', 'promoted_content': None, 'query': 'Trump', 'tweet_volume': 1315356}, {'name': 'West Indies', 'url': 'http://twitter.com/search?q=%22West+Indies%22', 'promoted_content': None, 'query': '%22West+Indies%22', 'tweet_volume': None}, {'name': 'Russia', 'url': 'http://twitter.com/search?q=Russia', 'promoted_content': None, 'query': 'Russia', 'tweet_volume': 108931}, {'name': 'Iraq', 'url': 'http://twitter.com/search?q=Iraq', 'promoted_content': None, 'query': 'Iraq', 'tweet_volume': 113285}, {'name': 'The US', 'url': 'http://twitter.com/search?q=%22The+US%22', 'promoted_content': None, 'query': '%22The+US%22', 'tweet_volume': 1152845}, {'name': 'United Nations', 'url': 'http://twitter.com/search?q=%22United+Nations%22', 'promoted_content': None, 'query': '%22United+Nations%22', 'tweet_volume': 13058}, {'name': 'Vietnam', 'url': 'http://twitter.com/search?q=Vietnam', 'promoted_content': None, 'query': 'Vietnam', 'tweet_volume': None}, {'name': 'NATO', 'url': 'http://twitter.com/search?q=NATO', 'promoted_content': None, 'query': 'NATO', 'tweet_volume': 100913}, {'name': 'Syria', 'url': 'http://twitter.com/search?q=Syria', 'promoted_content': None, 'query': 'Syria', 'tweet_volume': 51571}], 'as_of': '2021-08-16T04:29:02Z', 'created_at': '2021-07-27T05:54:58Z', 'locations': [{'name': 'Delhi', 'woeid': 20070458}]}\n"
     ]
    }
   ],
   "source": [
    "trends = api.trends_place(id = woeid,exclude = \"hashtags\")\n",
    "for value in trends:\n",
    "    print(value)"
   ]
  },
  {
   "cell_type": "code",
   "execution_count": 21,
   "metadata": {},
   "outputs": [],
   "source": [
    "for value in trends:\n",
    "    RDD = spark.sparkContext.parallelize(value.get('trends'))\n",
    "trend_without_hashtag=RDD.toDF(sampleRatio=0.01)"
   ]
  },
  {
   "cell_type": "code",
   "execution_count": 22,
   "metadata": {},
   "outputs": [
    {
     "name": "stdout",
     "output_type": "stream",
     "text": [
      "+--------------------+------------+\n",
      "|                name|tweet_volume|\n",
      "+--------------------+------------+\n",
      "|           भारत रत्न|       18191|\n",
      "|             Taliban|     2837069|\n",
      "|      भारतीय राजनीति|        null|\n",
      "|Mission Justice F...|       15836|\n",
      "|         Punya Tithi|        null|\n",
      "|          Meditation|       29046|\n",
      "|             America|      607761|\n",
      "|Prime Minister of...|       10318|\n",
      "|             Islamic|      121164|\n",
      "|              Sharia|       55562|\n",
      "|               Trump|     1315356|\n",
      "|         West Indies|        null|\n",
      "|              Russia|      108931|\n",
      "|                Iraq|      113285|\n",
      "|              The US|     1152845|\n",
      "|      United Nations|       13058|\n",
      "|             Vietnam|        null|\n",
      "|                NATO|      100913|\n",
      "|               Syria|       51571|\n",
      "+--------------------+------------+\n",
      "\n"
     ]
    }
   ],
   "source": [
    "trend_without_hashtag.createOrReplaceTempView(\"trend\")\n",
    "td=spark.sql(\"select name, tweet_volume from trend\")\n",
    "td.show(50)"
   ]
  },
  {
   "cell_type": "code",
   "execution_count": null,
   "metadata": {},
   "outputs": [],
   "source": []
  }
 ],
 "metadata": {
  "kernelspec": {
   "display_name": "Python 3",
   "language": "python",
   "name": "python3"
  },
  "language_info": {
   "codemirror_mode": {
    "name": "ipython",
    "version": 3
   },
   "file_extension": ".py",
   "mimetype": "text/x-python",
   "name": "python",
   "nbconvert_exporter": "python",
   "pygments_lexer": "ipython3",
   "version": "3.8.8"
  }
 },
 "nbformat": 4,
 "nbformat_minor": 2
}
